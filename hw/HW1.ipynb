{
 "cells": [
  {
   "cell_type": "code",
   "execution_count": 1,
   "metadata": {},
   "outputs": [
    {
     "name": "stdout",
     "output_type": "stream",
     "text": [
      "0\n",
      "1\n",
      "2\n",
      "3\n",
      "4\n",
      "5\n",
      "6\n",
      "7\n",
      "8\n",
      "9\n",
      "10\n",
      "11\n",
      "12\n",
      "13\n",
      "14\n",
      "15\n",
      "16\n",
      "17\n",
      "18\n",
      "19\n",
      "20\n",
      "21\n",
      "22\n",
      "23\n",
      "24\n",
      "25\n",
      "26\n",
      "27\n",
      "28\n",
      "29\n",
      "30\n",
      "31\n",
      "32\n",
      "33\n",
      "34\n",
      "35\n",
      "36\n",
      "37\n",
      "38\n",
      "39\n",
      "40\n",
      "41\n",
      "42\n",
      "43\n",
      "44\n",
      "45\n",
      "46\n",
      "47\n",
      "48\n",
      "49\n",
      "50\n",
      "51\n",
      "52\n",
      "53\n",
      "54\n",
      "55\n",
      "56\n",
      "57\n",
      "58\n",
      "59\n",
      "60\n",
      "61\n",
      "62\n",
      "63\n",
      "64\n",
      "65\n",
      "66\n",
      "67\n",
      "68\n",
      "69\n",
      "70\n",
      "71\n",
      "72\n",
      "73\n",
      "74\n",
      "75\n",
      "76\n",
      "77\n",
      "78\n",
      "79\n",
      "80\n",
      "81\n",
      "82\n",
      "83\n",
      "84\n",
      "85\n",
      "86\n",
      "87\n",
      "88\n",
      "89\n",
      "90\n",
      "91\n",
      "92\n",
      "93\n",
      "94\n",
      "95\n",
      "96\n",
      "97\n",
      "98\n",
      "99\n"
     ]
    }
   ],
   "source": [
    "\"\"\"\n",
    "1a. Modify the code below to count 'down' in increments of -1 (5 points)\n",
    "\"\"\"\n",
    "for word in range(0, 100):\n",
    "    print (word)"
   ]
  },
  {
   "cell_type": "code",
   "execution_count": null,
   "metadata": {},
   "outputs": [],
   "source": [
    "\"\"\"\n",
    "1b. Change the code above to count down in increments of -0.5 (5 points)\n",
    "\"\"\""
   ]
  },
  {
   "cell_type": "code",
   "execution_count": null,
   "metadata": {},
   "outputs": [],
   "source": [
    "\"\"\"\n",
    "2. Using list comprehension (HINT: []) populate an array whose individual word \n",
    "character lengths are >= 4 (10 points)\n",
    "\"\"\"\n",
    "the_sentence = 'the student went above and beyond the call of duty on the homework'\n",
    "\n",
    "my_ar = list()\n",
    "for word in the_sentence.split():\n",
    "    if len(word) >= 4:\n",
    "        my_ar.append(word)"
   ]
  },
  {
   "cell_type": "code",
   "execution_count": null,
   "metadata": {},
   "outputs": [],
   "source": [
    "\"\"\"\n",
    "3. Fix the errors in the code below and replace the word dog with turtle (10 points)\n",
    "\"\"\"\n",
    "import re\n",
    "the_sentence = 'the orange cat jumped over the dog, but the orange cat landed on another orange cat'\n",
    "\n",
    "my_ar = my_ar = re.subway('dog', 'turtle', the_sentenced)\n"
   ]
  },
  {
   "cell_type": "code",
   "execution_count": null,
   "metadata": {},
   "outputs": [],
   "source": [
    "\"\"\"\n",
    "4. Remove all special characters from the sentence except for @ (10 points)\n",
    "\"\"\"\n",
    "the_sentence = 'woah!!! the @student really^ #impressed me, and& so did ??you!!!'"
   ]
  },
  {
   "cell_type": "code",
   "execution_count": null,
   "metadata": {},
   "outputs": [],
   "source": [
    "\"\"\"\n",
    "5. create a sentence, each word seperated by one space, out of the following array \n",
    "and replace any special characters with a no space, except '!', with '' (10 points)\n",
    "\"\"\"\n",
    "\n",
    "the_ar = ['woah!!!','the','@student',' really^','# impressed','me,','and&','so','did','??you!!!']"
   ]
  },
  {
   "cell_type": "code",
   "execution_count": null,
   "metadata": {},
   "outputs": [],
   "source": [
    "\"\"\"\n",
    "6. Create a program that loops 10 times and for each loop generate a random integer between 1 and 10, \n",
    "and print 'even' if the number is even and 'odd' if the number is odd (HINT: import random)\n",
    "if the number is odd (10 points)\n",
    "\"\"\""
   ]
  },
  {
   "cell_type": "code",
   "execution_count": null,
   "metadata": {},
   "outputs": [],
   "source": [
    "\"\"\"  \n",
    "7. Create a program that counts the length of each word in an arbitrary sentence and stores \n",
    "each word and count pair in a pandas dataframe where one column is the word and one column is the \n",
    "word length (number of characters) (10 points)\n",
    "\"\"\"\n"
   ]
  },
  {
   "cell_type": "code",
   "execution_count": null,
   "metadata": {},
   "outputs": [],
   "source": [
    "\"\"\"\n",
    "8. Replace the word cat with mouse (10 points)\n",
    "\"\"\"\n",
    "the_sentence = 'the cat jumped over the dog, but the cat landed on another cat!'"
   ]
  },
  {
   "cell_type": "code",
   "execution_count": null,
   "metadata": {},
   "outputs": [],
   "source": [
    "\"\"\"\n",
    "9. Cleanse the following sentence by removing all special characters \n",
    "except when the hyphen joins to two words and exclamation points (10 points)\n",
    "\"\"\"\n",
    "\n",
    "the_sentence = 'The impact*of data-driven$^%&marketing approaches!!'"
   ]
  },
  {
   "cell_type": "code",
   "execution_count": null,
   "metadata": {},
   "outputs": [],
   "source": [
    "\"\"\"\n",
    "10. Write a python program that inputs the sentence below and returns a dictionary\n",
    "that has each unique character as a key and count of that character as the value.\n",
    "(10 points)\n",
    "\"\"\"\n",
    "\n",
    "the_sentence = 'Everything flows, and nothing abides, everything gives way, and nothing stays fixed'"
   ]
  }
 ],
 "metadata": {
  "kernelspec": {
   "display_name": "Python 3 (ipykernel)",
   "language": "python",
   "name": "python3"
  },
  "language_info": {
   "codemirror_mode": {
    "name": "ipython",
    "version": 3
   },
   "file_extension": ".py",
   "mimetype": "text/x-python",
   "name": "python",
   "nbconvert_exporter": "python",
   "pygments_lexer": "ipython3",
   "version": "3.9.7"
  }
 },
 "nbformat": 4,
 "nbformat_minor": 2
}
