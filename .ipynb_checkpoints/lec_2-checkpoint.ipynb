{
 "cells": [
  {
   "cell_type": "markdown",
   "id": "c58c8d5f",
   "metadata": {},
   "source": [
    "## List"
   ]
  },
  {
   "cell_type": "code",
   "execution_count": 1,
   "id": "ec821555",
   "metadata": {},
   "outputs": [
    {
     "data": {
      "text/plain": [
       "[]"
      ]
     },
     "execution_count": 1,
     "metadata": {},
     "output_type": "execute_result"
    }
   ],
   "source": [
    "# list\n",
    "my_list = []\n",
    "# my_list = list()\n",
    "my_list"
   ]
  },
  {
   "cell_type": "code",
   "execution_count": 2,
   "id": "fd853e65",
   "metadata": {},
   "outputs": [
    {
     "data": {
      "text/plain": [
       "[1]"
      ]
     },
     "execution_count": 2,
     "metadata": {},
     "output_type": "execute_result"
    }
   ],
   "source": [
    "my_list.append(1)\n",
    "my_list"
   ]
  },
  {
   "cell_type": "code",
   "execution_count": 3,
   "id": "6b28aa82",
   "metadata": {},
   "outputs": [
    {
     "data": {
      "text/plain": [
       "[1, 5]"
      ]
     },
     "execution_count": 3,
     "metadata": {},
     "output_type": "execute_result"
    }
   ],
   "source": [
    "my_list.append(5)\n",
    "my_list"
   ]
  },
  {
   "cell_type": "code",
   "execution_count": 4,
   "id": "66c878b9",
   "metadata": {},
   "outputs": [
    {
     "data": {
      "text/plain": [
       "[1, 5, 634]"
      ]
     },
     "execution_count": 4,
     "metadata": {},
     "output_type": "execute_result"
    }
   ],
   "source": [
    "my_list.append(634)\n",
    "my_list"
   ]
  },
  {
   "cell_type": "code",
   "execution_count": 5,
   "id": "f0c65fa4",
   "metadata": {},
   "outputs": [
    {
     "data": {
      "text/plain": [
       "[634, 5, 1]"
      ]
     },
     "execution_count": 5,
     "metadata": {},
     "output_type": "execute_result"
    }
   ],
   "source": [
    "# reverse order\n",
    "my_list[::-1]"
   ]
  },
  {
   "cell_type": "code",
   "execution_count": 6,
   "id": "19e87330",
   "metadata": {},
   "outputs": [
    {
     "data": {
      "text/plain": [
       "[1, 5, 634]"
      ]
     },
     "execution_count": 6,
     "metadata": {},
     "output_type": "execute_result"
    }
   ],
   "source": [
    "my_copy_list = my_list\n",
    "my_copy_list"
   ]
  },
  {
   "cell_type": "code",
   "execution_count": 7,
   "id": "0ec4e62a",
   "metadata": {},
   "outputs": [
    {
     "data": {
      "text/plain": [
       "[1, 5, 634]"
      ]
     },
     "execution_count": 7,
     "metadata": {},
     "output_type": "execute_result"
    }
   ],
   "source": [
    "# use .copy() for true copy\n",
    "proper_copy = my_list.copy()\n",
    "proper_copy"
   ]
  },
  {
   "cell_type": "code",
   "execution_count": 9,
   "id": "2f80cd38",
   "metadata": {},
   "outputs": [
    {
     "data": {
      "text/plain": [
       "[1, 5, 634, 111, 111]"
      ]
     },
     "execution_count": 9,
     "metadata": {},
     "output_type": "execute_result"
    }
   ],
   "source": [
    "my_list.append(111)\n",
    "my_list"
   ]
  },
  {
   "cell_type": "code",
   "execution_count": 10,
   "id": "2e746b02",
   "metadata": {},
   "outputs": [
    {
     "data": {
      "text/plain": [
       "[1, 5, 634]"
      ]
     },
     "execution_count": 10,
     "metadata": {},
     "output_type": "execute_result"
    }
   ],
   "source": [
    "proper_copy"
   ]
  },
  {
   "cell_type": "code",
   "execution_count": 11,
   "id": "6359f3f9",
   "metadata": {},
   "outputs": [
    {
     "data": {
      "text/plain": [
       "1"
      ]
     },
     "execution_count": 11,
     "metadata": {},
     "output_type": "execute_result"
    }
   ],
   "source": [
    "my_list.count(1)"
   ]
  },
  {
   "cell_type": "markdown",
   "id": "9ef607b3",
   "metadata": {},
   "source": [
    "## Set"
   ]
  },
  {
   "cell_type": "code",
   "execution_count": 14,
   "id": "a859abee",
   "metadata": {},
   "outputs": [],
   "source": [
    "# my_set = {}\n",
    "my_set = set()"
   ]
  },
  {
   "cell_type": "code",
   "execution_count": 15,
   "id": "deb494f3",
   "metadata": {},
   "outputs": [
    {
     "data": {
      "text/plain": [
       "set()"
      ]
     },
     "execution_count": 15,
     "metadata": {},
     "output_type": "execute_result"
    }
   ],
   "source": [
    "my_set"
   ]
  },
  {
   "cell_type": "code",
   "execution_count": 16,
   "id": "3e227ac4",
   "metadata": {},
   "outputs": [],
   "source": [
    "my_set.add('new york')\n",
    "my_set.add('new jersey')\n",
    "my_set.add('alaska')\n",
    "my_set.add('new york')"
   ]
  },
  {
   "cell_type": "code",
   "execution_count": 17,
   "id": "905e5249",
   "metadata": {},
   "outputs": [
    {
     "data": {
      "text/plain": [
       "{'alaska', 'new jersey', 'new york'}"
      ]
     },
     "execution_count": 17,
     "metadata": {},
     "output_type": "execute_result"
    }
   ],
   "source": [
    "my_set\n",
    "# sets are unique"
   ]
  },
  {
   "cell_type": "code",
   "execution_count": 18,
   "id": "67242687",
   "metadata": {},
   "outputs": [
    {
     "data": {
      "text/plain": [
       "{'New York', 'alaska', 'new jersey', 'new york'}"
      ]
     },
     "execution_count": 18,
     "metadata": {},
     "output_type": "execute_result"
    }
   ],
   "source": [
    "my_set.add('New York')\n",
    "my_set\n",
    "# Python is case sensitive"
   ]
  },
  {
   "cell_type": "code",
   "execution_count": null,
   "id": "e13807f0",
   "metadata": {},
   "outputs": [],
   "source": [
    "# union, intersection, symmytric_difference"
   ]
  },
  {
   "cell_type": "markdown",
   "id": "4b139777",
   "metadata": {},
   "source": [
    "## Dictionary"
   ]
  },
  {
   "cell_type": "code",
   "execution_count": 19,
   "id": "80830f3d",
   "metadata": {},
   "outputs": [
    {
     "data": {
      "text/plain": [
       "{}"
      ]
     },
     "execution_count": 19,
     "metadata": {},
     "output_type": "execute_result"
    }
   ],
   "source": [
    "# key, value pair\n",
    "my_dict = dict()\n",
    "my_dict"
   ]
  },
  {
   "cell_type": "code",
   "execution_count": 20,
   "id": "80be619f",
   "metadata": {},
   "outputs": [
    {
     "data": {
      "text/plain": [
       "{'key_a': 'columbia', 'key_b': 'princeton'}"
      ]
     },
     "execution_count": 20,
     "metadata": {},
     "output_type": "execute_result"
    }
   ],
   "source": [
    "my_dict['key_a'] = 'columbia'\n",
    "my_dict['key_b'] = 'princeton'\n",
    "my_dict"
   ]
  },
  {
   "cell_type": "code",
   "execution_count": 22,
   "id": "6ff6474e",
   "metadata": {},
   "outputs": [],
   "source": [
    "my_dict_a = {\"key_a\": [1, 5, 6], \"key_b\": {\"a\": 1, \"b\": 2}}"
   ]
  },
  {
   "cell_type": "code",
   "execution_count": 24,
   "id": "7fd943a1",
   "metadata": {},
   "outputs": [
    {
     "data": {
      "text/plain": [
       "{'a': 1, 'b': 2}"
      ]
     },
     "execution_count": 24,
     "metadata": {},
     "output_type": "execute_result"
    }
   ],
   "source": [
    "my_dict_a[\"key_b\"]"
   ]
  },
  {
   "cell_type": "code",
   "execution_count": 25,
   "id": "3adfe4ad",
   "metadata": {},
   "outputs": [
    {
     "data": {
      "text/plain": [
       "list"
      ]
     },
     "execution_count": 25,
     "metadata": {},
     "output_type": "execute_result"
    }
   ],
   "source": [
    "type(my_dict_a[\"key_a\"])"
   ]
  },
  {
   "cell_type": "code",
   "execution_count": 26,
   "id": "cf484bcb",
   "metadata": {},
   "outputs": [
    {
     "data": {
      "text/plain": [
       "['key_a', 'key_b']"
      ]
     },
     "execution_count": 26,
     "metadata": {},
     "output_type": "execute_result"
    }
   ],
   "source": [
    "keys = list(my_dict_a.keys())\n",
    "keys"
   ]
  },
  {
   "cell_type": "code",
   "execution_count": 29,
   "id": "cc3f1a4a",
   "metadata": {},
   "outputs": [
    {
     "data": {
      "text/plain": [
       "[[1, 5, 6], {'a': 1, 'b': 2}]"
      ]
     },
     "execution_count": 29,
     "metadata": {},
     "output_type": "execute_result"
    }
   ],
   "source": [
    "values = list(my_dict_a.values())\n",
    "values"
   ]
  },
  {
   "cell_type": "markdown",
   "id": "241cf78d",
   "metadata": {},
   "source": [
    "## Looping Statements"
   ]
  },
  {
   "cell_type": "code",
   "execution_count": 30,
   "id": "2d087183",
   "metadata": {},
   "outputs": [
    {
     "data": {
      "text/plain": [
       "[1, 2, 3, 4, 5, 6, 7, 8, 9, 10]"
      ]
     },
     "execution_count": 30,
     "metadata": {},
     "output_type": "execute_result"
    }
   ],
   "source": [
    "list(range(1,11))"
   ]
  },
  {
   "cell_type": "code",
   "execution_count": 31,
   "id": "0d7d5fa9",
   "metadata": {},
   "outputs": [
    {
     "name": "stdout",
     "output_type": "stream",
     "text": [
      "1\n",
      "2\n",
      "3\n",
      "4\n",
      "5\n",
      "6\n",
      "7\n",
      "8\n",
      "9\n",
      "10\n"
     ]
    }
   ],
   "source": [
    "for i in range(1, 11):\n",
    "    print(i)"
   ]
  },
  {
   "cell_type": "code",
   "execution_count": 33,
   "id": "93fcba4a",
   "metadata": {},
   "outputs": [
    {
     "name": "stdout",
     "output_type": "stream",
     "text": [
      "0\n",
      "1\n",
      "2\n",
      "3\n",
      "4\n",
      "5\n",
      "6\n",
      "7\n",
      "8\n",
      "9\n"
     ]
    }
   ],
   "source": [
    "cnt = 0\n",
    "while cnt < 10:\n",
    "    print(cnt)\n",
    "    cnt += 1"
   ]
  },
  {
   "cell_type": "code",
   "execution_count": 34,
   "id": "ac8e8ceb",
   "metadata": {},
   "outputs": [],
   "source": [
    "sentence_fun = \"the cat ran up the hill after dog who beat up my friends cat\""
   ]
  },
  {
   "cell_type": "markdown",
   "id": "4954e46b",
   "metadata": {},
   "source": [
    "## Tokenization"
   ]
  },
  {
   "cell_type": "code",
   "execution_count": 49,
   "id": "2a8d1382",
   "metadata": {},
   "outputs": [
    {
     "data": {
      "text/plain": [
       "['the',\n",
       " 'cat',\n",
       " 'ran',\n",
       " 'up',\n",
       " 'the',\n",
       " 'hill',\n",
       " 'after',\n",
       " 'dog',\n",
       " 'who',\n",
       " 'beat',\n",
       " 'up',\n",
       " 'my',\n",
       " 'friends',\n",
       " 'cat']"
      ]
     },
     "execution_count": 49,
     "metadata": {},
     "output_type": "execute_result"
    }
   ],
   "source": [
    "token = sentence_fun.split() # defaults to a space\n",
    "token"
   ]
  },
  {
   "cell_type": "code",
   "execution_count": 36,
   "id": "843ebd98",
   "metadata": {},
   "outputs": [],
   "source": [
    "sentence_fun_a = \"the,cat,ran,up,the,hill,after,dog,who,beat,up,my,friends,cat\""
   ]
  },
  {
   "cell_type": "code",
   "execution_count": 39,
   "id": "96322643",
   "metadata": {},
   "outputs": [
    {
     "data": {
      "text/plain": [
       "['the',\n",
       " 'cat',\n",
       " 'ran',\n",
       " 'up',\n",
       " 'the',\n",
       " 'hill',\n",
       " 'after',\n",
       " 'dog',\n",
       " 'who',\n",
       " 'beat',\n",
       " 'up',\n",
       " 'my',\n",
       " 'friends',\n",
       " 'cat']"
      ]
     },
     "execution_count": 39,
     "metadata": {},
     "output_type": "execute_result"
    }
   ],
   "source": [
    "token_a = sentence_fun_a.split(\",\") # use a ,\n",
    "token_a"
   ]
  },
  {
   "cell_type": "code",
   "execution_count": null,
   "id": "9569d30d",
   "metadata": {},
   "outputs": [],
   "source": [
    "# create a dictionary where the keys are UNIQUE tokens\n",
    "# and the values are the COUNT of the number of times that token showed up in the list"
   ]
  },
  {
   "cell_type": "code",
   "execution_count": 51,
   "id": "e86a1e7a",
   "metadata": {},
   "outputs": [],
   "source": [
    "word_freq = dict()\n",
    "my_set = set(token) # use set for unique token\n",
    "my_set\n",
    "\n",
    "for word in my_set:\n",
    "    word_freq[word] = token.count(word)"
   ]
  },
  {
   "cell_type": "code",
   "execution_count": 52,
   "id": "ced87f09",
   "metadata": {},
   "outputs": [
    {
     "data": {
      "text/plain": [
       "{'the': 2,\n",
       " 'hill': 1,\n",
       " 'friends': 1,\n",
       " 'who': 1,\n",
       " 'cat': 2,\n",
       " 'beat': 1,\n",
       " 'my': 1,\n",
       " 'up': 2,\n",
       " 'ran': 1,\n",
       " 'dog': 1,\n",
       " 'after': 1}"
      ]
     },
     "execution_count": 52,
     "metadata": {},
     "output_type": "execute_result"
    }
   ],
   "source": [
    "word_freq"
   ]
  },
  {
   "cell_type": "code",
   "execution_count": 53,
   "id": "9a876b69",
   "metadata": {},
   "outputs": [],
   "source": [
    "# create a function whose input is a corpus and the funtion needs to\n",
    "# output a word frequency dictionary"
   ]
  },
  {
   "cell_type": "code",
   "execution_count": 60,
   "id": "ca2de173",
   "metadata": {},
   "outputs": [],
   "source": [
    "def word_freq_func(x):\n",
    "    dict_fun = dict()\n",
    "    token = x.split()\n",
    "    for w in set(token):\n",
    "        dict_fun[w] = token.count(w)\n",
    "    return dict_fun"
   ]
  },
  {
   "cell_type": "code",
   "execution_count": 63,
   "id": "464392e1",
   "metadata": {},
   "outputs": [],
   "source": [
    "test = \"the cat cat dog dog\""
   ]
  },
  {
   "cell_type": "code",
   "execution_count": 64,
   "id": "092e7685",
   "metadata": {},
   "outputs": [
    {
     "data": {
      "text/plain": [
       "{'dog': 2, 'cat': 2, 'the': 1}"
      ]
     },
     "execution_count": 64,
     "metadata": {},
     "output_type": "execute_result"
    }
   ],
   "source": [
    "word_freq_func(test)"
   ]
  },
  {
   "cell_type": "code",
   "execution_count": 62,
   "id": "befa918b",
   "metadata": {},
   "outputs": [],
   "source": [
    "import collections"
   ]
  },
  {
   "cell_type": "code",
   "execution_count": 65,
   "id": "323c9350",
   "metadata": {},
   "outputs": [],
   "source": [
    "test_fun = collections.Counter(test.split())"
   ]
  },
  {
   "cell_type": "code",
   "execution_count": 66,
   "id": "8d526ad6",
   "metadata": {},
   "outputs": [
    {
     "data": {
      "text/plain": [
       "Counter({'the': 1, 'cat': 2, 'dog': 2})"
      ]
     },
     "execution_count": 66,
     "metadata": {},
     "output_type": "execute_result"
    }
   ],
   "source": [
    "test_fun"
   ]
  },
  {
   "cell_type": "markdown",
   "id": "a567ae56",
   "metadata": {},
   "source": [
    "## List Coprehension"
   ]
  },
  {
   "cell_type": "code",
   "execution_count": 68,
   "id": "3d7430c1",
   "metadata": {},
   "outputs": [],
   "source": [
    "sentence = \"a b c d d e e e g g h\""
   ]
  },
  {
   "cell_type": "code",
   "execution_count": 73,
   "id": "4949953f",
   "metadata": {},
   "outputs": [
    {
     "data": {
      "text/plain": [
       "['a fun',\n",
       " 'b fun',\n",
       " 'c fun',\n",
       " 'd fun',\n",
       " 'd fun',\n",
       " 'e fun',\n",
       " 'e fun',\n",
       " 'e fun',\n",
       " 'g fun',\n",
       " 'g fun',\n",
       " 'h fun']"
      ]
     },
     "execution_count": 73,
     "metadata": {},
     "output_type": "execute_result"
    }
   ],
   "source": [
    "word_freq_lc = [word + ' fun' for word in sentence.split()]\n",
    "word_freq_lc"
   ]
  },
  {
   "cell_type": "code",
   "execution_count": 74,
   "id": "02667c80",
   "metadata": {},
   "outputs": [
    {
     "data": {
      "text/plain": [
       "['a fun',\n",
       " 'b fun',\n",
       " 'c fun',\n",
       " 'd fun',\n",
       " 'd fun',\n",
       " 'e fun',\n",
       " 'e fun',\n",
       " 'e fun',\n",
       " 'g fun',\n",
       " 'g fun',\n",
       " 'h fun']"
      ]
     },
     "execution_count": 74,
     "metadata": {},
     "output_type": "execute_result"
    }
   ],
   "source": [
    "# same, easy to debug\n",
    "word_freq_lc_a = list()\n",
    "for word in sentence.split():\n",
    "    word_freq_lc_a.append(word + \" fun\")\n",
    "\n",
    "word_freq_lc_a"
   ]
  },
  {
   "cell_type": "code",
   "execution_count": 76,
   "id": "621af9de",
   "metadata": {},
   "outputs": [
    {
     "data": {
      "text/plain": [
       "{'e': 3, 'd': 2, 'g': 2, 'a': 1, 'h': 1, 'c': 1, 'b': 1}"
      ]
     },
     "execution_count": 76,
     "metadata": {},
     "output_type": "execute_result"
    }
   ],
   "source": [
    "dict_fun = {word:sentence.count(word) for word in set(sentence.split())}\n",
    "dict_fun"
   ]
  },
  {
   "cell_type": "code",
   "execution_count": 78,
   "id": "02cd222c",
   "metadata": {},
   "outputs": [],
   "source": [
    "import pandas as pd"
   ]
  },
  {
   "cell_type": "code",
   "execution_count": 95,
   "id": "6b9bff95",
   "metadata": {},
   "outputs": [],
   "source": [
    "my_pd = pd.DataFrame()"
   ]
  },
  {
   "cell_type": "code",
   "execution_count": 80,
   "id": "9ad163b9",
   "metadata": {},
   "outputs": [
    {
     "data": {
      "text/plain": [
       "pandas.core.frame.DataFrame"
      ]
     },
     "execution_count": 80,
     "metadata": {},
     "output_type": "execute_result"
    }
   ],
   "source": [
    "type(my_pd)"
   ]
  },
  {
   "cell_type": "code",
   "execution_count": 96,
   "id": "1a70a6b6",
   "metadata": {},
   "outputs": [
    {
     "data": {
      "text/html": [
       "<div>\n",
       "<style scoped>\n",
       "    .dataframe tbody tr th:only-of-type {\n",
       "        vertical-align: middle;\n",
       "    }\n",
       "\n",
       "    .dataframe tbody tr th {\n",
       "        vertical-align: top;\n",
       "    }\n",
       "\n",
       "    .dataframe thead th {\n",
       "        text-align: right;\n",
       "    }\n",
       "</style>\n",
       "<table border=\"1\" class=\"dataframe\">\n",
       "  <thead>\n",
       "    <tr style=\"text-align: right;\">\n",
       "      <th></th>\n",
       "      <th>token</th>\n",
       "      <th>freq</th>\n",
       "    </tr>\n",
       "  </thead>\n",
       "  <tbody>\n",
       "    <tr>\n",
       "      <th>0</th>\n",
       "      <td>e</td>\n",
       "      <td>3.0</td>\n",
       "    </tr>\n",
       "    <tr>\n",
       "      <th>1</th>\n",
       "      <td>d</td>\n",
       "      <td>2.0</td>\n",
       "    </tr>\n",
       "    <tr>\n",
       "      <th>2</th>\n",
       "      <td>g</td>\n",
       "      <td>2.0</td>\n",
       "    </tr>\n",
       "    <tr>\n",
       "      <th>3</th>\n",
       "      <td>a</td>\n",
       "      <td>1.0</td>\n",
       "    </tr>\n",
       "    <tr>\n",
       "      <th>4</th>\n",
       "      <td>h</td>\n",
       "      <td>1.0</td>\n",
       "    </tr>\n",
       "    <tr>\n",
       "      <th>5</th>\n",
       "      <td>c</td>\n",
       "      <td>1.0</td>\n",
       "    </tr>\n",
       "    <tr>\n",
       "      <th>6</th>\n",
       "      <td>b</td>\n",
       "      <td>1.0</td>\n",
       "    </tr>\n",
       "  </tbody>\n",
       "</table>\n",
       "</div>"
      ],
      "text/plain": [
       "  token  freq\n",
       "0     e   3.0\n",
       "1     d   2.0\n",
       "2     g   2.0\n",
       "3     a   1.0\n",
       "4     h   1.0\n",
       "5     c   1.0\n",
       "6     b   1.0"
      ]
     },
     "execution_count": 96,
     "metadata": {},
     "output_type": "execute_result"
    }
   ],
   "source": [
    "for word in dict_fun.keys():\n",
    "    my_pd = my_pd.append({\"token\": word, \"freq\": dict_fun[word]}, ignore_index=True)\n",
    "    \n",
    "my_pd"
   ]
  },
  {
   "cell_type": "code",
   "execution_count": 87,
   "id": "a8e3cc8c",
   "metadata": {},
   "outputs": [
    {
     "data": {
      "text/html": [
       "<div>\n",
       "<style scoped>\n",
       "    .dataframe tbody tr th:only-of-type {\n",
       "        vertical-align: middle;\n",
       "    }\n",
       "\n",
       "    .dataframe tbody tr th {\n",
       "        vertical-align: top;\n",
       "    }\n",
       "\n",
       "    .dataframe thead th {\n",
       "        text-align: right;\n",
       "    }\n",
       "</style>\n",
       "<table border=\"1\" class=\"dataframe\">\n",
       "  <thead>\n",
       "    <tr style=\"text-align: right;\">\n",
       "      <th></th>\n",
       "      <th>token</th>\n",
       "      <th>count</th>\n",
       "    </tr>\n",
       "  </thead>\n",
       "  <tbody>\n",
       "    <tr>\n",
       "      <th>0</th>\n",
       "      <td>e</td>\n",
       "      <td>3.0</td>\n",
       "    </tr>\n",
       "  </tbody>\n",
       "</table>\n",
       "</div>"
      ],
      "text/plain": [
       "  token  count\n",
       "0     e    3.0"
      ]
     },
     "execution_count": 87,
     "metadata": {},
     "output_type": "execute_result"
    }
   ],
   "source": [
    "my_pd.head(1)"
   ]
  },
  {
   "cell_type": "code",
   "execution_count": 91,
   "id": "b1395f07",
   "metadata": {},
   "outputs": [
    {
     "data": {
      "text/html": [
       "<div>\n",
       "<style scoped>\n",
       "    .dataframe tbody tr th:only-of-type {\n",
       "        vertical-align: middle;\n",
       "    }\n",
       "\n",
       "    .dataframe tbody tr th {\n",
       "        vertical-align: top;\n",
       "    }\n",
       "\n",
       "    .dataframe thead th {\n",
       "        text-align: right;\n",
       "    }\n",
       "</style>\n",
       "<table border=\"1\" class=\"dataframe\">\n",
       "  <thead>\n",
       "    <tr style=\"text-align: right;\">\n",
       "      <th></th>\n",
       "      <th>count</th>\n",
       "    </tr>\n",
       "  </thead>\n",
       "  <tbody>\n",
       "    <tr>\n",
       "      <th>count</th>\n",
       "      <td>21.000000</td>\n",
       "    </tr>\n",
       "    <tr>\n",
       "      <th>mean</th>\n",
       "      <td>1.571429</td>\n",
       "    </tr>\n",
       "    <tr>\n",
       "      <th>std</th>\n",
       "      <td>0.746420</td>\n",
       "    </tr>\n",
       "    <tr>\n",
       "      <th>min</th>\n",
       "      <td>1.000000</td>\n",
       "    </tr>\n",
       "    <tr>\n",
       "      <th>25%</th>\n",
       "      <td>1.000000</td>\n",
       "    </tr>\n",
       "    <tr>\n",
       "      <th>50%</th>\n",
       "      <td>1.000000</td>\n",
       "    </tr>\n",
       "    <tr>\n",
       "      <th>75%</th>\n",
       "      <td>2.000000</td>\n",
       "    </tr>\n",
       "    <tr>\n",
       "      <th>max</th>\n",
       "      <td>3.000000</td>\n",
       "    </tr>\n",
       "  </tbody>\n",
       "</table>\n",
       "</div>"
      ],
      "text/plain": [
       "           count\n",
       "count  21.000000\n",
       "mean    1.571429\n",
       "std     0.746420\n",
       "min     1.000000\n",
       "25%     1.000000\n",
       "50%     1.000000\n",
       "75%     2.000000\n",
       "max     3.000000"
      ]
     },
     "execution_count": 91,
     "metadata": {},
     "output_type": "execute_result"
    }
   ],
   "source": [
    "my_pd.describe()"
   ]
  },
  {
   "cell_type": "code",
   "execution_count": 97,
   "id": "03f6bfcf",
   "metadata": {},
   "outputs": [
    {
     "data": {
      "text/plain": [
       "0    3.0\n",
       "1    2.0\n",
       "2    2.0\n",
       "3    1.0\n",
       "4    1.0\n",
       "5    1.0\n",
       "6    1.0\n",
       "Name: freq, dtype: float64"
      ]
     },
     "execution_count": 97,
     "metadata": {},
     "output_type": "execute_result"
    }
   ],
   "source": [
    "my_pd[\"freq\"]"
   ]
  },
  {
   "cell_type": "code",
   "execution_count": 98,
   "id": "d42b237c",
   "metadata": {},
   "outputs": [
    {
     "data": {
      "text/plain": [
       "0    3.0\n",
       "1    2.0\n",
       "2    2.0\n",
       "3    1.0\n",
       "4    1.0\n",
       "5    1.0\n",
       "6    1.0\n",
       "Name: freq, dtype: float64"
      ]
     },
     "execution_count": 98,
     "metadata": {},
     "output_type": "execute_result"
    }
   ],
   "source": [
    "my_pd.freq"
   ]
  },
  {
   "cell_type": "code",
   "execution_count": 103,
   "id": "7b5814b0",
   "metadata": {},
   "outputs": [
    {
     "data": {
      "text/plain": [
       "Index(['freq_fun', 'word'], dtype='object')"
      ]
     },
     "execution_count": 103,
     "metadata": {},
     "output_type": "execute_result"
    }
   ],
   "source": [
    "my_pd.columns"
   ]
  },
  {
   "cell_type": "code",
   "execution_count": null,
   "id": "b3590ccc",
   "metadata": {},
   "outputs": [],
   "source": []
  }
 ],
 "metadata": {
  "kernelspec": {
   "display_name": "Python 3 (ipykernel)",
   "language": "python",
   "name": "python3"
  },
  "language_info": {
   "codemirror_mode": {
    "name": "ipython",
    "version": 3
   },
   "file_extension": ".py",
   "mimetype": "text/x-python",
   "name": "python",
   "nbconvert_exporter": "python",
   "pygments_lexer": "ipython3",
   "version": "3.9.7"
  }
 },
 "nbformat": 4,
 "nbformat_minor": 5
}
