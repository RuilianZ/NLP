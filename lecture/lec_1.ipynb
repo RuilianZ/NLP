{
 "cells": [
  {
   "cell_type": "code",
   "execution_count": 1,
   "id": "80a77c6e",
   "metadata": {},
   "outputs": [],
   "source": [
    "#Patrick Houlihan\n",
    "#GR5067 Class #1\n",
    "#this is a single line comment"
   ]
  },
  {
   "cell_type": "code",
   "execution_count": 2,
   "id": "1df18dfd",
   "metadata": {},
   "outputs": [
    {
     "data": {
      "text/plain": [
       "'\\nanything between these \\nquote marks is a comment\\n'"
      ]
     },
     "execution_count": 2,
     "metadata": {},
     "output_type": "execute_result"
    }
   ],
   "source": [
    "\"\"\"\n",
    "anything between these \n",
    "quote marks is a comment\n",
    "\"\"\""
   ]
  },
  {
   "cell_type": "code",
   "execution_count": 3,
   "id": "cdcfdbff",
   "metadata": {},
   "outputs": [],
   "source": [
    "#datatypes\n",
    "#integers, strings, floats, boolean"
   ]
  },
  {
   "cell_type": "code",
   "execution_count": 4,
   "id": "45f4869b",
   "metadata": {},
   "outputs": [],
   "source": [
    "new_int = 1"
   ]
  },
  {
   "cell_type": "code",
   "execution_count": 5,
   "id": "241cdeac",
   "metadata": {},
   "outputs": [],
   "source": [
    "new_str = \"gr5067\""
   ]
  },
  {
   "cell_type": "code",
   "execution_count": 6,
   "id": "7d7d94cf",
   "metadata": {},
   "outputs": [
    {
     "data": {
      "text/plain": [
       "int"
      ]
     },
     "execution_count": 6,
     "metadata": {},
     "output_type": "execute_result"
    }
   ],
   "source": [
    "type(new_int)"
   ]
  },
  {
   "cell_type": "code",
   "execution_count": 7,
   "id": "78077f6e",
   "metadata": {},
   "outputs": [
    {
     "data": {
      "text/plain": [
       "str"
      ]
     },
     "execution_count": 7,
     "metadata": {},
     "output_type": "execute_result"
    }
   ],
   "source": [
    "type(new_str)"
   ]
  },
  {
   "cell_type": "code",
   "execution_count": 8,
   "id": "ddac6c69",
   "metadata": {},
   "outputs": [],
   "source": [
    "new_float = 3.14\n",
    "new_true = True"
   ]
  },
  {
   "cell_type": "code",
   "execution_count": 9,
   "id": "a07bb257",
   "metadata": {},
   "outputs": [
    {
     "data": {
      "text/plain": [
       "False"
      ]
     },
     "execution_count": 9,
     "metadata": {},
     "output_type": "execute_result"
    }
   ],
   "source": [
    "new_int == new_str"
   ]
  },
  {
   "cell_type": "code",
   "execution_count": 10,
   "id": "6b5cd936",
   "metadata": {},
   "outputs": [
    {
     "data": {
      "text/plain": [
       "True"
      ]
     },
     "execution_count": 10,
     "metadata": {},
     "output_type": "execute_result"
    }
   ],
   "source": [
    "type(new_int) == int"
   ]
  },
  {
   "cell_type": "code",
   "execution_count": 11,
   "id": "2e22082a",
   "metadata": {},
   "outputs": [],
   "source": [
    "str_a = \"columbia\"\n",
    "str_b = \"Columbia\""
   ]
  },
  {
   "cell_type": "code",
   "execution_count": 12,
   "id": "051c7e75",
   "metadata": {},
   "outputs": [
    {
     "data": {
      "text/plain": [
       "False"
      ]
     },
     "execution_count": 12,
     "metadata": {},
     "output_type": "execute_result"
    }
   ],
   "source": [
    "#python is case sensitive\n",
    "str_a == str_b"
   ]
  },
  {
   "cell_type": "code",
   "execution_count": 13,
   "id": "b3fbf69f",
   "metadata": {},
   "outputs": [
    {
     "data": {
      "text/plain": [
       "'columbia'"
      ]
     },
     "execution_count": 13,
     "metadata": {},
     "output_type": "execute_result"
    }
   ],
   "source": [
    "#lower case\n",
    "str_b.lower()"
   ]
  },
  {
   "cell_type": "code",
   "execution_count": 14,
   "id": "f49a3a30",
   "metadata": {},
   "outputs": [
    {
     "data": {
      "text/plain": [
       "'COLUMBIA'"
      ]
     },
     "execution_count": 14,
     "metadata": {},
     "output_type": "execute_result"
    }
   ],
   "source": [
    "#upper case\n",
    "str_b.upper()"
   ]
  },
  {
   "cell_type": "code",
   "execution_count": 15,
   "id": "a822cc03",
   "metadata": {},
   "outputs": [
    {
     "name": "stdout",
     "output_type": "stream",
     "text": [
      "hello world\n"
     ]
    }
   ],
   "source": [
    "print(\"hello world\")"
   ]
  },
  {
   "cell_type": "code",
   "execution_count": 16,
   "id": "26860203",
   "metadata": {},
   "outputs": [
    {
     "name": "stdout",
     "output_type": "stream",
     "text": [
      "hello world 123 True\n"
     ]
    }
   ],
   "source": [
    "print(\"hello world\", 123, True)"
   ]
  },
  {
   "cell_type": "code",
   "execution_count": 17,
   "id": "28abda01",
   "metadata": {},
   "outputs": [
    {
     "data": {
      "text/plain": [
       "8"
      ]
     },
     "execution_count": 17,
     "metadata": {},
     "output_type": "execute_result"
    }
   ],
   "source": [
    "len(str_a)"
   ]
  },
  {
   "cell_type": "code",
   "execution_count": 18,
   "id": "d0872281",
   "metadata": {},
   "outputs": [],
   "source": [
    "str_c = \"columbia rocks\""
   ]
  },
  {
   "cell_type": "code",
   "execution_count": 19,
   "id": "e04eb17f",
   "metadata": {},
   "outputs": [
    {
     "data": {
      "text/plain": [
       "14"
      ]
     },
     "execution_count": 19,
     "metadata": {},
     "output_type": "execute_result"
    }
   ],
   "source": [
    "len(str_c)"
   ]
  },
  {
   "cell_type": "code",
   "execution_count": 20,
   "id": "64a43884",
   "metadata": {},
   "outputs": [
    {
     "data": {
      "text/plain": [
       "'columbia Columbia'"
      ]
     },
     "execution_count": 20,
     "metadata": {},
     "output_type": "execute_result"
    }
   ],
   "source": [
    "#string concatenation\n",
    "str_a + \" \" + str_b"
   ]
  },
  {
   "cell_type": "code",
   "execution_count": 21,
   "id": "53d16a9e",
   "metadata": {},
   "outputs": [],
   "source": [
    "str_d = \"1234\""
   ]
  },
  {
   "cell_type": "code",
   "execution_count": 22,
   "id": "cbe24120",
   "metadata": {},
   "outputs": [
    {
     "data": {
      "text/plain": [
       "str"
      ]
     },
     "execution_count": 22,
     "metadata": {},
     "output_type": "execute_result"
    }
   ],
   "source": [
    "type(str_d)"
   ]
  },
  {
   "cell_type": "code",
   "execution_count": 23,
   "id": "f14c6be4",
   "metadata": {},
   "outputs": [],
   "source": [
    "int_c = int(str_d)"
   ]
  },
  {
   "cell_type": "code",
   "execution_count": 24,
   "id": "3d09727d",
   "metadata": {},
   "outputs": [
    {
     "data": {
      "text/plain": [
       "int"
      ]
     },
     "execution_count": 24,
     "metadata": {},
     "output_type": "execute_result"
    }
   ],
   "source": [
    "type(int_c)"
   ]
  },
  {
   "cell_type": "code",
   "execution_count": 25,
   "id": "ff2d33df",
   "metadata": {},
   "outputs": [],
   "source": [
    "number_whatever = 3.14\n",
    "number_whatever_str = str(number_whatever)"
   ]
  },
  {
   "cell_type": "code",
   "execution_count": 26,
   "id": "3d9fa2ed",
   "metadata": {},
   "outputs": [
    {
     "data": {
      "text/plain": [
       "str"
      ]
     },
     "execution_count": 26,
     "metadata": {},
     "output_type": "execute_result"
    }
   ],
   "source": [
    "type(number_whatever_str)"
   ]
  },
  {
   "cell_type": "code",
   "execution_count": 27,
   "id": "692cffa9",
   "metadata": {},
   "outputs": [
    {
     "data": {
      "text/plain": [
       "'columbiacolumbiacolumbiacolumbiacolumbiacolumbiacolumbiacolumbiacolumbiacolumbia'"
      ]
     },
     "execution_count": 27,
     "metadata": {},
     "output_type": "execute_result"
    }
   ],
   "source": [
    "str_a*10"
   ]
  },
  {
   "cell_type": "code",
   "execution_count": 28,
   "id": "1ea4090b",
   "metadata": {},
   "outputs": [],
   "source": [
    "def hello_world():\n",
    "    print (\"hello world!\")"
   ]
  },
  {
   "cell_type": "code",
   "execution_count": 29,
   "id": "c5b16052",
   "metadata": {},
   "outputs": [
    {
     "name": "stdout",
     "output_type": "stream",
     "text": [
      "hello world!\n"
     ]
    }
   ],
   "source": [
    "hello_world()"
   ]
  },
  {
   "cell_type": "code",
   "execution_count": 30,
   "id": "b195109f",
   "metadata": {},
   "outputs": [],
   "source": [
    "def adder(int_a, int_b):\n",
    "    tmp = int_a + int_b\n",
    "    return tmp"
   ]
  },
  {
   "cell_type": "code",
   "execution_count": 31,
   "id": "6610b65e",
   "metadata": {},
   "outputs": [],
   "source": [
    "the_answer = adder(1, 5)"
   ]
  },
  {
   "cell_type": "code",
   "execution_count": 32,
   "id": "d2258419",
   "metadata": {},
   "outputs": [
    {
     "ename": "TypeError",
     "evalue": "unsupported operand type(s) for +: 'int' and 'str'",
     "output_type": "error",
     "traceback": [
      "\u001b[0;31m---------------------------------------------------------------------------\u001b[0m",
      "\u001b[0;31mTypeError\u001b[0m                                 Traceback (most recent call last)",
      "\u001b[0;32m/var/folders/h_/ktb589cd4qd4t7wbtqgxcgnw0000gn/T/ipykernel_11621/558819198.py\u001b[0m in \u001b[0;36m<module>\u001b[0;34m\u001b[0m\n\u001b[0;32m----> 1\u001b[0;31m \u001b[0mthe_answer\u001b[0m \u001b[0;34m=\u001b[0m \u001b[0madder\u001b[0m\u001b[0;34m(\u001b[0m\u001b[0;36m1\u001b[0m\u001b[0;34m,\u001b[0m \u001b[0;34m\"hello\"\u001b[0m\u001b[0;34m)\u001b[0m\u001b[0;34m\u001b[0m\u001b[0;34m\u001b[0m\u001b[0m\n\u001b[0m\u001b[1;32m      2\u001b[0m \u001b[0mhello_world\u001b[0m\u001b[0;34m(\u001b[0m\u001b[0;34m)\u001b[0m\u001b[0;34m\u001b[0m\u001b[0;34m\u001b[0m\u001b[0m\n",
      "\u001b[0;32m/var/folders/h_/ktb589cd4qd4t7wbtqgxcgnw0000gn/T/ipykernel_11621/2103421435.py\u001b[0m in \u001b[0;36madder\u001b[0;34m(int_a, int_b)\u001b[0m\n\u001b[1;32m      1\u001b[0m \u001b[0;32mdef\u001b[0m \u001b[0madder\u001b[0m\u001b[0;34m(\u001b[0m\u001b[0mint_a\u001b[0m\u001b[0;34m,\u001b[0m \u001b[0mint_b\u001b[0m\u001b[0;34m)\u001b[0m\u001b[0;34m:\u001b[0m\u001b[0;34m\u001b[0m\u001b[0;34m\u001b[0m\u001b[0m\n\u001b[0;32m----> 2\u001b[0;31m     \u001b[0mtmp\u001b[0m \u001b[0;34m=\u001b[0m \u001b[0mint_a\u001b[0m \u001b[0;34m+\u001b[0m \u001b[0mint_b\u001b[0m\u001b[0;34m\u001b[0m\u001b[0;34m\u001b[0m\u001b[0m\n\u001b[0m\u001b[1;32m      3\u001b[0m     \u001b[0;32mreturn\u001b[0m \u001b[0mtmp\u001b[0m\u001b[0;34m\u001b[0m\u001b[0;34m\u001b[0m\u001b[0m\n",
      "\u001b[0;31mTypeError\u001b[0m: unsupported operand type(s) for +: 'int' and 'str'"
     ]
    }
   ],
   "source": [
    "the_answer = adder(1, \"hello\")\n",
    "hello_world()"
   ]
  },
  {
   "cell_type": "code",
   "execution_count": 34,
   "id": "a6527060",
   "metadata": {},
   "outputs": [],
   "source": [
    "def adder(int_a, int_b):\n",
    "    try:\n",
    "        tmp = int_a + int_b\n",
    "        return tmp\n",
    "    except:\n",
    "        print (\"can't add a\", type(int_a), type(int_b))\n",
    "        pass"
   ]
  },
  {
   "cell_type": "code",
   "execution_count": 35,
   "id": "7e45e143",
   "metadata": {},
   "outputs": [
    {
     "name": "stdout",
     "output_type": "stream",
     "text": [
      "can't add a <class 'str'> <class 'int'>\n",
      "hello world!\n"
     ]
    }
   ],
   "source": [
    "adder(\"columbia\", 1)\n",
    "hello_world()"
   ]
  },
  {
   "cell_type": "code",
   "execution_count": 36,
   "id": "f4f6872a",
   "metadata": {},
   "outputs": [
    {
     "name": "stdout",
     "output_type": "stream",
     "text": [
      "no\n"
     ]
    }
   ],
   "source": [
    "#logical operations\n",
    "if 1 == 2:\n",
    "    print (\"yes\")\n",
    "else:\n",
    "    print (\"no\")"
   ]
  },
  {
   "cell_type": "code",
   "execution_count": 37,
   "id": "8f227a9e",
   "metadata": {},
   "outputs": [
    {
     "name": "stdout",
     "output_type": "stream",
     "text": [
      "no sir\n",
      "hello world!\n"
     ]
    }
   ],
   "source": [
    "if 1 == 2:\n",
    "    print (\"yes\")\n",
    "elif 2 == 2:\n",
    "    print (\"no sir\")\n",
    "elif 4 == 4:\n",
    "    print (\"finally\")\n",
    "else:\n",
    "    print (\"not getting here\")\n",
    "    \n",
    "hello_world()"
   ]
  },
  {
   "cell_type": "code",
   "execution_count": 38,
   "id": "5450ba74",
   "metadata": {},
   "outputs": [
    {
     "name": "stdout",
     "output_type": "stream",
     "text": [
      "no sir\n",
      "finally\n",
      "hello world!\n"
     ]
    }
   ],
   "source": [
    "if 1 == 2:\n",
    "    print (\"yes\")\n",
    "if 2 == 2:\n",
    "    print (\"no sir\")\n",
    "if 4 == 4:\n",
    "    print (\"finally\")\n",
    "    \n",
    "hello_world()"
   ]
  },
  {
   "cell_type": "code",
   "execution_count": null,
   "id": "bf175a97",
   "metadata": {},
   "outputs": [],
   "source": []
  }
 ],
 "metadata": {
  "kernelspec": {
   "display_name": "Python 3 (ipykernel)",
   "language": "python",
   "name": "python3"
  },
  "language_info": {
   "codemirror_mode": {
    "name": "ipython",
    "version": 3
   },
   "file_extension": ".py",
   "mimetype": "text/x-python",
   "name": "python",
   "nbconvert_exporter": "python",
   "pygments_lexer": "ipython3",
   "version": "3.9.7"
  }
 },
 "nbformat": 4,
 "nbformat_minor": 5
}
