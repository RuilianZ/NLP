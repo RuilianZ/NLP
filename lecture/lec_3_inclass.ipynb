{
 "cells": [
  {
   "cell_type": "code",
   "execution_count": 4,
   "id": "e42327ea",
   "metadata": {},
   "outputs": [
    {
     "name": "stdout",
     "output_type": "stream",
     "text": [
      "0.3\n"
     ]
    }
   ],
   "source": [
    "# jaccardian distance\n",
    "sent_a = 'the cat ran up the hill after the dog'\n",
    "sent_b = 'the dog was chased by the cat'\n",
    "\n",
    "# jd = len(intersection)/len(union)\n",
    "# build a function that takes two inputs, strings/corpus, outputs jd\n",
    "\n",
    "def jac_dist(input1, input2):\n",
    "    set_1 = set(input1.split())\n",
    "    set_2 = set(input2.split())\n",
    "    jd  = len(set_1.intersection(set_2)) / len(set_1.union(set_2))\n",
    "    print(jd)\n",
    "\n",
    "jac_dist(sent_a, sent_b)"
   ]
  },
  {
   "cell_type": "code",
   "execution_count": 14,
   "id": "bb14462e",
   "metadata": {},
   "outputs": [],
   "source": [
    "import re\n",
    "\n",
    "sent_a_cor = 'The^!@# cat1234 ran up the hill after the dog'\n",
    "sent_b_cor = 'the dog #@#$@was (chased() by the cat'"
   ]
  },
  {
   "cell_type": "code",
   "execution_count": 19,
   "id": "9af16005",
   "metadata": {},
   "outputs": [
    {
     "data": {
      "text/plain": [
       "'the     cat     ran up the hill after the dog'"
      ]
     },
     "execution_count": 19,
     "metadata": {},
     "output_type": "execute_result"
    }
   ],
   "source": [
    "sent_a_clean = re.sub('[^A-Za-z]', ' ', sent_a_cor.lower())\n",
    "sent_a_clean"
   ]
  },
  {
   "cell_type": "code",
   "execution_count": 29,
   "id": "c4752192",
   "metadata": {},
   "outputs": [],
   "source": [
    "def clean_text(str_in):\n",
    "    import re\n",
    "    sent_a_clean = re.sub('[^A-Za-z]', \" \", str_in.lower())\n",
    "    return sent_a_clean"
   ]
  },
  {
   "cell_type": "code",
   "execution_count": 30,
   "id": "2f80ab0a",
   "metadata": {},
   "outputs": [
    {
     "data": {
      "text/plain": [
       "'the dog      was  chased   by the cat'"
      ]
     },
     "execution_count": 30,
     "metadata": {},
     "output_type": "execute_result"
    }
   ],
   "source": [
    "clean_text(sent_b_cor)"
   ]
  },
  {
   "cell_type": "code",
   "execution_count": 46,
   "id": "e3b113b1",
   "metadata": {},
   "outputs": [
    {
     "data": {
      "text/html": [
       "<div>\n",
       "<style scoped>\n",
       "    .dataframe tbody tr th:only-of-type {\n",
       "        vertical-align: middle;\n",
       "    }\n",
       "\n",
       "    .dataframe tbody tr th {\n",
       "        vertical-align: top;\n",
       "    }\n",
       "\n",
       "    .dataframe thead th {\n",
       "        text-align: right;\n",
       "    }\n",
       "</style>\n",
       "<table border=\"1\" class=\"dataframe\">\n",
       "  <thead>\n",
       "    <tr style=\"text-align: right;\">\n",
       "      <th></th>\n",
       "      <th>0</th>\n",
       "      <th>1</th>\n",
       "      <th>2</th>\n",
       "    </tr>\n",
       "  </thead>\n",
       "  <tbody>\n",
       "    <tr>\n",
       "      <th>0</th>\n",
       "      <td>a</td>\n",
       "      <td>b</td>\n",
       "      <td>c</td>\n",
       "    </tr>\n",
       "    <tr>\n",
       "      <th>1</th>\n",
       "      <td>1</td>\n",
       "      <td>2</td>\n",
       "      <td>3</td>\n",
       "    </tr>\n",
       "    <tr>\n",
       "      <th>2</th>\n",
       "      <td>4</td>\n",
       "      <td>5</td>\n",
       "      <td>6</td>\n",
       "    </tr>\n",
       "    <tr>\n",
       "      <th>3</th>\n",
       "      <td>7</td>\n",
       "      <td>8</td>\n",
       "      <td>9</td>\n",
       "    </tr>\n",
       "  </tbody>\n",
       "</table>\n",
       "</div>"
      ],
      "text/plain": [
       "   0  1  2\n",
       "0  a  b  c\n",
       "1  1  2  3\n",
       "2  4  5  6\n",
       "3  7  8  9"
      ]
     },
     "execution_count": 46,
     "metadata": {},
     "output_type": "execute_result"
    }
   ],
   "source": [
    "import pandas as pd\n",
    "path = '/Users/roxy/desktop/5067/lecture/data/'\n",
    "data = pd.read_csv(path + 'ex.txt', sep = ',', header = None)\n",
    "data"
   ]
  },
  {
   "cell_type": "code",
   "execution_count": 47,
   "id": "2a321454",
   "metadata": {},
   "outputs": [],
   "source": [
    "data.to_csv(path + 'ex_two.txt', sep = ',', index = False)"
   ]
  },
  {
   "cell_type": "code",
   "execution_count": 35,
   "id": "259f0ecf",
   "metadata": {},
   "outputs": [
    {
     "data": {
      "text/plain": [
       "_io.BufferedReader"
      ]
     },
     "execution_count": 35,
     "metadata": {},
     "output_type": "execute_result"
    }
   ],
   "source": [
    "f = open(path + 'ex.txt', 'rb')\n",
    "type(f)"
   ]
  },
  {
   "cell_type": "code",
   "execution_count": 36,
   "id": "fb4ebbed",
   "metadata": {},
   "outputs": [
    {
     "data": {
      "text/plain": [
       "b'a,b,c\\n1,2,3\\n4,5,6\\n7,8,9'"
      ]
     },
     "execution_count": 36,
     "metadata": {},
     "output_type": "execute_result"
    }
   ],
   "source": [
    "f.read()"
   ]
  },
  {
   "cell_type": "code",
   "execution_count": 37,
   "id": "b36f093b",
   "metadata": {},
   "outputs": [],
   "source": [
    "f.close()"
   ]
  },
  {
   "cell_type": "code",
   "execution_count": 39,
   "id": "ca3176b4",
   "metadata": {},
   "outputs": [
    {
     "data": {
      "text/plain": [
       "'a,b,c\\n'"
      ]
     },
     "execution_count": 39,
     "metadata": {},
     "output_type": "execute_result"
    }
   ],
   "source": [
    "f = open(path + 'ex.txt', 'r')\n",
    "f.readline()"
   ]
  },
  {
   "cell_type": "code",
   "execution_count": 40,
   "id": "b4465d93",
   "metadata": {},
   "outputs": [],
   "source": [
    "f.close()"
   ]
  },
  {
   "cell_type": "code",
   "execution_count": 42,
   "id": "483916df",
   "metadata": {},
   "outputs": [
    {
     "data": {
      "text/plain": [
       "['a,b,c\\n', '1,2,3\\n', '4,5,6\\n', '7,8,9']"
      ]
     },
     "execution_count": 42,
     "metadata": {},
     "output_type": "execute_result"
    }
   ],
   "source": [
    "f = open(path + 'ex.txt', 'r')\n",
    "txt = f.readlines()\n",
    "f.close()\n",
    "txt"
   ]
  },
  {
   "cell_type": "code",
   "execution_count": null,
   "id": "d7592301",
   "metadata": {},
   "outputs": [],
   "source": [
    "f.read()"
   ]
  },
  {
   "cell_type": "code",
   "execution_count": null,
   "id": "6a94dd00",
   "metadata": {},
   "outputs": [],
   "source": [
    "f = open(path + 'ex.txt', 'r')\n",
    "text = f.read()"
   ]
  },
  {
   "cell_type": "code",
   "execution_count": 48,
   "id": "4d36113d",
   "metadata": {},
   "outputs": [],
   "source": [
    "# create a func taking in a path and file name, open the text,\n",
    "# apply clean_text and output the clean text\n",
    "\n",
    "def clean_text_file(path, file_name):\n",
    "    f = open(path + file_name, sep = ',', header = None)\n",
    "    import re\n",
    "    text_clean = re.sub('[^A-Za-z]', \" \", f.lower())\n",
    "    text_clean.to_csv(path + 'clean_' + file_name, sep = ',', index = False)"
   ]
  },
  {
   "cell_type": "code",
   "execution_count": 53,
   "id": "2e12eea0",
   "metadata": {},
   "outputs": [],
   "source": [
    "def clean_file(file):\n",
    "    f = open(file, 'r')\n",
    "    text = f.read()\n",
    "    text = clean_text(text)\n",
    "    f.close\n",
    "    return text"
   ]
  },
  {
   "cell_type": "code",
   "execution_count": 54,
   "id": "b0025c98",
   "metadata": {},
   "outputs": [
    {
     "data": {
      "text/plain": [
       "'the     cat     ran up the hill     after the dog'"
      ]
     },
     "execution_count": 54,
     "metadata": {},
     "output_type": "execute_result"
    }
   ],
   "source": [
    "clean_file(path + 'text_ex.txt')"
   ]
  }
 ],
 "metadata": {
  "kernelspec": {
   "display_name": "Python 3 (ipykernel)",
   "language": "python",
   "name": "python3"
  },
  "language_info": {
   "codemirror_mode": {
    "name": "ipython",
    "version": 3
   },
   "file_extension": ".py",
   "mimetype": "text/x-python",
   "name": "python",
   "nbconvert_exporter": "python",
   "pygments_lexer": "ipython3",
   "version": "3.9.7"
  }
 },
 "nbformat": 4,
 "nbformat_minor": 5
}
