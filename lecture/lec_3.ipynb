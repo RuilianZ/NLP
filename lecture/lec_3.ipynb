{
 "cells": [
  {
   "cell_type": "code",
   "execution_count": 4,
   "id": "19f4fd0a",
   "metadata": {},
   "outputs": [
    {
     "name": "stdout",
     "output_type": "stream",
     "text": [
      "0.3\n"
     ]
    }
   ],
   "source": [
    "#jaccardian distance\n",
    "sent_a = \"the cat ran up the hill after dog\"\n",
    "sent_b = \"the dog was chased by the cat\"\n",
    "\n",
    "#jd = len(intersection) / len(union)\n",
    "#build a function that takes two inputs, strings/corpus, and outputs teh jaccardian distance\n",
    "\n",
    "set_sent_a = set(sent_a.split())\n",
    "set_sent_b = set(sent_b.split())\n",
    "jd = len(set_sent_a.intersection(set_sent_b)) / len(set_sent_a.union(set_sent_b))\n",
    "print (jd)"
   ]
  },
  {
   "cell_type": "code",
   "execution_count": 5,
   "id": "b180726d",
   "metadata": {},
   "outputs": [],
   "source": [
    "def jac_dist(str_a, str_b):\n",
    "    set_sent_a = set(str_a.split())\n",
    "    set_sent_b = set(str_b.split())\n",
    "    jd = len(set_sent_a.intersection(set_sent_b)) / len(set_sent_a.union(set_sent_b))\n",
    "    return jd"
   ]
  },
  {
   "cell_type": "code",
   "execution_count": 6,
   "id": "408d824b",
   "metadata": {},
   "outputs": [
    {
     "data": {
      "text/plain": [
       "0.3"
      ]
     },
     "execution_count": 6,
     "metadata": {},
     "output_type": "execute_result"
    }
   ],
   "source": [
    "jac_dist(sent_a, sent_b)"
   ]
  },
  {
   "cell_type": "code",
   "execution_count": 23,
   "id": "934f8f00",
   "metadata": {},
   "outputs": [],
   "source": [
    "sent_a_cor = \"The^!! cat1234 ran Up the hill[] :-) after dog\"\n",
    "sent_b_cor = \"the dog $$#was (chased(] by the cat\""
   ]
  },
  {
   "cell_type": "code",
   "execution_count": 34,
   "id": "9bc5704c",
   "metadata": {},
   "outputs": [],
   "source": [
    "import re\n",
    "sent_a_clean = re.sub(\"[^A-Za-z]+\", \" \", sent_a_cor.lower())"
   ]
  },
  {
   "cell_type": "code",
   "execution_count": 35,
   "id": "125ab8d0",
   "metadata": {},
   "outputs": [
    {
     "data": {
      "text/plain": [
       "'the cat ran up the hill after dog'"
      ]
     },
     "execution_count": 35,
     "metadata": {},
     "output_type": "execute_result"
    }
   ],
   "source": [
    " sent_a_clean"
   ]
  },
  {
   "cell_type": "code",
   "execution_count": 36,
   "id": "a7dd2cf6",
   "metadata": {},
   "outputs": [],
   "source": [
    "def clean_text(str_in):\n",
    "    import re\n",
    "    sent_a_clean = re.sub(\"[^A-Za-z]+\", \" \", str_in.lower()) \n",
    "    return sent_a_clean"
   ]
  },
  {
   "cell_type": "code",
   "execution_count": 38,
   "id": "ac7c885d",
   "metadata": {},
   "outputs": [
    {
     "data": {
      "text/plain": [
       "'the dog was chased by the cat'"
      ]
     },
     "execution_count": 38,
     "metadata": {},
     "output_type": "execute_result"
    }
   ],
   "source": [
    "clean_text(sent_b_cor)"
   ]
  },
  {
   "cell_type": "code",
   "execution_count": 51,
   "id": "8005b964",
   "metadata": {},
   "outputs": [],
   "source": [
    "import pandas as pd\n",
    "the_path = \"C:/Users/pathouli/myStuff/academia/columbia/socialSciences/GR5067/2022_fall/code/data/\"\n",
    "the_data = pd.read_csv(the_path + \"ex.txt\", sep=\",\", header=0)"
   ]
  },
  {
   "cell_type": "code",
   "execution_count": 52,
   "id": "e1cd342e",
   "metadata": {},
   "outputs": [
    {
     "data": {
      "text/html": [
       "<div>\n",
       "<style scoped>\n",
       "    .dataframe tbody tr th:only-of-type {\n",
       "        vertical-align: middle;\n",
       "    }\n",
       "\n",
       "    .dataframe tbody tr th {\n",
       "        vertical-align: top;\n",
       "    }\n",
       "\n",
       "    .dataframe thead th {\n",
       "        text-align: right;\n",
       "    }\n",
       "</style>\n",
       "<table border=\"1\" class=\"dataframe\">\n",
       "  <thead>\n",
       "    <tr style=\"text-align: right;\">\n",
       "      <th></th>\n",
       "      <th>a</th>\n",
       "      <th>b</th>\n",
       "      <th>c</th>\n",
       "    </tr>\n",
       "  </thead>\n",
       "  <tbody>\n",
       "    <tr>\n",
       "      <th>0</th>\n",
       "      <td>1</td>\n",
       "      <td>2</td>\n",
       "      <td>3</td>\n",
       "    </tr>\n",
       "    <tr>\n",
       "      <th>1</th>\n",
       "      <td>4</td>\n",
       "      <td>5</td>\n",
       "      <td>6</td>\n",
       "    </tr>\n",
       "    <tr>\n",
       "      <th>2</th>\n",
       "      <td>7</td>\n",
       "      <td>8</td>\n",
       "      <td>9</td>\n",
       "    </tr>\n",
       "  </tbody>\n",
       "</table>\n",
       "</div>"
      ],
      "text/plain": [
       "   a  b  c\n",
       "0  1  2  3\n",
       "1  4  5  6\n",
       "2  7  8  9"
      ]
     },
     "execution_count": 52,
     "metadata": {},
     "output_type": "execute_result"
    }
   ],
   "source": [
    "the_data"
   ]
  },
  {
   "cell_type": "code",
   "execution_count": 53,
   "id": "86fa1908",
   "metadata": {},
   "outputs": [
    {
     "data": {
      "text/plain": [
       "Index(['a', 'b', 'c'], dtype='object')"
      ]
     },
     "execution_count": 53,
     "metadata": {},
     "output_type": "execute_result"
    }
   ],
   "source": [
    "the_data.columns\n"
   ]
  },
  {
   "cell_type": "code",
   "execution_count": 55,
   "id": "e6972347",
   "metadata": {},
   "outputs": [],
   "source": [
    "the_data.columns = [\"a_in\", \"b_in\", \"c_in\"]"
   ]
  },
  {
   "cell_type": "code",
   "execution_count": 56,
   "id": "2e81be21",
   "metadata": {},
   "outputs": [
    {
     "data": {
      "text/html": [
       "<div>\n",
       "<style scoped>\n",
       "    .dataframe tbody tr th:only-of-type {\n",
       "        vertical-align: middle;\n",
       "    }\n",
       "\n",
       "    .dataframe tbody tr th {\n",
       "        vertical-align: top;\n",
       "    }\n",
       "\n",
       "    .dataframe thead th {\n",
       "        text-align: right;\n",
       "    }\n",
       "</style>\n",
       "<table border=\"1\" class=\"dataframe\">\n",
       "  <thead>\n",
       "    <tr style=\"text-align: right;\">\n",
       "      <th></th>\n",
       "      <th>a_in</th>\n",
       "      <th>b_in</th>\n",
       "      <th>c_in</th>\n",
       "    </tr>\n",
       "  </thead>\n",
       "  <tbody>\n",
       "    <tr>\n",
       "      <th>0</th>\n",
       "      <td>1</td>\n",
       "      <td>2</td>\n",
       "      <td>3</td>\n",
       "    </tr>\n",
       "    <tr>\n",
       "      <th>1</th>\n",
       "      <td>4</td>\n",
       "      <td>5</td>\n",
       "      <td>6</td>\n",
       "    </tr>\n",
       "    <tr>\n",
       "      <th>2</th>\n",
       "      <td>7</td>\n",
       "      <td>8</td>\n",
       "      <td>9</td>\n",
       "    </tr>\n",
       "  </tbody>\n",
       "</table>\n",
       "</div>"
      ],
      "text/plain": [
       "   a_in  b_in  c_in\n",
       "0     1     2     3\n",
       "1     4     5     6\n",
       "2     7     8     9"
      ]
     },
     "execution_count": 56,
     "metadata": {},
     "output_type": "execute_result"
    }
   ],
   "source": [
    "the_data"
   ]
  },
  {
   "cell_type": "code",
   "execution_count": 59,
   "id": "dfff553e",
   "metadata": {},
   "outputs": [],
   "source": [
    "the_data.to_csv(the_path + \"ex_two.txt\", sep=\"\\t\", index=False)"
   ]
  },
  {
   "cell_type": "code",
   "execution_count": 62,
   "id": "caa81138",
   "metadata": {},
   "outputs": [],
   "source": [
    "the_data_fun = pd.read_csv(the_path + \"ex_two.txt\", sep=\"\\t\", header=0)"
   ]
  },
  {
   "cell_type": "code",
   "execution_count": 63,
   "id": "79912b84",
   "metadata": {},
   "outputs": [
    {
     "data": {
      "text/html": [
       "<div>\n",
       "<style scoped>\n",
       "    .dataframe tbody tr th:only-of-type {\n",
       "        vertical-align: middle;\n",
       "    }\n",
       "\n",
       "    .dataframe tbody tr th {\n",
       "        vertical-align: top;\n",
       "    }\n",
       "\n",
       "    .dataframe thead th {\n",
       "        text-align: right;\n",
       "    }\n",
       "</style>\n",
       "<table border=\"1\" class=\"dataframe\">\n",
       "  <thead>\n",
       "    <tr style=\"text-align: right;\">\n",
       "      <th></th>\n",
       "      <th>a_in</th>\n",
       "      <th>b_in</th>\n",
       "      <th>c_in</th>\n",
       "    </tr>\n",
       "  </thead>\n",
       "  <tbody>\n",
       "    <tr>\n",
       "      <th>0</th>\n",
       "      <td>1</td>\n",
       "      <td>2</td>\n",
       "      <td>3</td>\n",
       "    </tr>\n",
       "    <tr>\n",
       "      <th>1</th>\n",
       "      <td>4</td>\n",
       "      <td>5</td>\n",
       "      <td>6</td>\n",
       "    </tr>\n",
       "    <tr>\n",
       "      <th>2</th>\n",
       "      <td>7</td>\n",
       "      <td>8</td>\n",
       "      <td>9</td>\n",
       "    </tr>\n",
       "  </tbody>\n",
       "</table>\n",
       "</div>"
      ],
      "text/plain": [
       "   a_in  b_in  c_in\n",
       "0     1     2     3\n",
       "1     4     5     6\n",
       "2     7     8     9"
      ]
     },
     "execution_count": 63,
     "metadata": {},
     "output_type": "execute_result"
    }
   ],
   "source": [
    "the_data_fun"
   ]
  },
  {
   "cell_type": "code",
   "execution_count": 84,
   "id": "4ac3df76",
   "metadata": {},
   "outputs": [],
   "source": [
    "f = open(the_path+\"ex.txt\", \"r\")"
   ]
  },
  {
   "cell_type": "code",
   "execution_count": 85,
   "id": "82b4fcb5",
   "metadata": {},
   "outputs": [
    {
     "data": {
      "text/plain": [
       "_io.TextIOWrapper"
      ]
     },
     "execution_count": 85,
     "metadata": {},
     "output_type": "execute_result"
    }
   ],
   "source": [
    "type(f)"
   ]
  },
  {
   "cell_type": "code",
   "execution_count": 86,
   "id": "7e786b0f",
   "metadata": {},
   "outputs": [
    {
     "data": {
      "text/plain": [
       "'a,b,c\\n1,2,3\\n4,5,6\\n7,8,9'"
      ]
     },
     "execution_count": 86,
     "metadata": {},
     "output_type": "execute_result"
    }
   ],
   "source": [
    "f.read()"
   ]
  },
  {
   "cell_type": "code",
   "execution_count": 72,
   "id": "9c49cc40",
   "metadata": {},
   "outputs": [],
   "source": [
    "f.close()"
   ]
  },
  {
   "cell_type": "code",
   "execution_count": 73,
   "id": "08ac2c17",
   "metadata": {},
   "outputs": [],
   "source": [
    "f = open(the_path+\"ex.txt\", \"r\")"
   ]
  },
  {
   "cell_type": "code",
   "execution_count": 78,
   "id": "1ed7d83d",
   "metadata": {},
   "outputs": [
    {
     "data": {
      "text/plain": [
       "''"
      ]
     },
     "execution_count": 78,
     "metadata": {},
     "output_type": "execute_result"
    }
   ],
   "source": [
    "f.readline() #read line by line"
   ]
  },
  {
   "cell_type": "code",
   "execution_count": 79,
   "id": "c68a1929",
   "metadata": {},
   "outputs": [],
   "source": [
    "f.close()"
   ]
  },
  {
   "cell_type": "code",
   "execution_count": 88,
   "id": "6add2016",
   "metadata": {},
   "outputs": [],
   "source": [
    "f = open(the_path+\"ex.txt\", \"r\")\n",
    "txt = f.readlines()\n",
    "f.close()"
   ]
  },
  {
   "cell_type": "code",
   "execution_count": 89,
   "id": "8a243cdd",
   "metadata": {},
   "outputs": [
    {
     "data": {
      "text/plain": [
       "['a,b,c\\n', '1,2,3\\n', '4,5,6\\n', '7,8,9']"
      ]
     },
     "execution_count": 89,
     "metadata": {},
     "output_type": "execute_result"
    }
   ],
   "source": [
    "txt"
   ]
  },
  {
   "cell_type": "code",
   "execution_count": 98,
   "id": "43f510f7",
   "metadata": {},
   "outputs": [],
   "source": [
    "f = open(the_path+\"ex.txt\", \"r\")\n",
    "text = f.read().strip()\n",
    "f.close()"
   ]
  },
  {
   "cell_type": "code",
   "execution_count": 99,
   "id": "eb3be9ca",
   "metadata": {},
   "outputs": [
    {
     "data": {
      "text/plain": [
       "'a,b,c\\n1,2,3\\n4,5,6\\n7,8,9'"
      ]
     },
     "execution_count": 99,
     "metadata": {},
     "output_type": "execute_result"
    }
   ],
   "source": [
    "text"
   ]
  },
  {
   "cell_type": "code",
   "execution_count": 101,
   "id": "bac476df",
   "metadata": {},
   "outputs": [
    {
     "data": {
      "text/plain": [
       "'abc'"
      ]
     },
     "execution_count": 101,
     "metadata": {},
     "output_type": "execute_result"
    }
   ],
   "source": [
    "test =\"abc \"\n",
    "test.strip()"
   ]
  },
  {
   "cell_type": "code",
   "execution_count": 121,
   "id": "0db66f45",
   "metadata": {},
   "outputs": [],
   "source": [
    "f = open(the_path+\"text_ex.txt\", \"r\")\n",
    "text = f.read()\n",
    "f.close()"
   ]
  },
  {
   "cell_type": "code",
   "execution_count": 122,
   "id": "12f0f931",
   "metadata": {},
   "outputs": [
    {
     "data": {
      "text/plain": [
       "'The^!! cat1234 ran Up the hill[] :-) after dog\\nthe dog $$#was (chased(] by the cat'"
      ]
     },
     "execution_count": 122,
     "metadata": {},
     "output_type": "execute_result"
    }
   ],
   "source": [
    "text"
   ]
  },
  {
   "cell_type": "code",
   "execution_count": null,
   "id": "b26bce74",
   "metadata": {},
   "outputs": [],
   "source": [
    "def clean_text(str_in):\n",
    "    import re\n",
    "    sent_a_clean = re.sub(\"[^A-Za-z]+\", \" \", str_in.lower()) \n",
    "    return sent_a_clean"
   ]
  },
  {
   "cell_type": "code",
   "execution_count": 123,
   "id": "b0281ba7",
   "metadata": {},
   "outputs": [],
   "source": [
    "#create a function that takes in a path and file name, opens the text, apply the clean_txt\n",
    "#and output the clean text\n",
    "def open_file(file_in):\n",
    "    f = open(file_in, \"r\")\n",
    "    text = f.read()\n",
    "    text = clean_text(text)\n",
    "    f.close()\n",
    "    return text"
   ]
  },
  {
   "cell_type": "code",
   "execution_count": 124,
   "id": "6801da5d",
   "metadata": {},
   "outputs": [
    {
     "data": {
      "text/plain": [
       "'the cat ran up the hill after dog the dog was chased by the cat'"
      ]
     },
     "execution_count": 124,
     "metadata": {},
     "output_type": "execute_result"
    }
   ],
   "source": [
    "open_file(the_path+\"text_ex.txt\")"
   ]
  },
  {
   "cell_type": "code",
   "execution_count": null,
   "id": "df77cec1",
   "metadata": {},
   "outputs": [],
   "source": []
  }
 ],
 "metadata": {
  "kernelspec": {
   "display_name": "Python 3 (ipykernel)",
   "language": "python",
   "name": "python3"
  },
  "language_info": {
   "codemirror_mode": {
    "name": "ipython",
    "version": 3
   },
   "file_extension": ".py",
   "mimetype": "text/x-python",
   "name": "python",
   "nbconvert_exporter": "python",
   "pygments_lexer": "ipython3",
   "version": "3.9.7"
  }
 },
 "nbformat": 4,
 "nbformat_minor": 5
}
