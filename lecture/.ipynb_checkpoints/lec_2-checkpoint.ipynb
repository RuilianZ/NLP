{
 "cells": [
  {
   "cell_type": "code",
   "execution_count": 1,
   "id": "6b28996a",
   "metadata": {},
   "outputs": [],
   "source": [
    "#data structure list\n",
    "#my_list = []\n",
    "my_list = list()"
   ]
  },
  {
   "cell_type": "code",
   "execution_count": 2,
   "id": "24e3d06d",
   "metadata": {},
   "outputs": [
    {
     "data": {
      "text/plain": [
       "[]"
      ]
     },
     "execution_count": 2,
     "metadata": {},
     "output_type": "execute_result"
    }
   ],
   "source": [
    "my_list"
   ]
  },
  {
   "cell_type": "code",
   "execution_count": 3,
   "id": "7b43bfac",
   "metadata": {},
   "outputs": [],
   "source": [
    "my_list.append(1)"
   ]
  },
  {
   "cell_type": "code",
   "execution_count": 4,
   "id": "0fecf491",
   "metadata": {},
   "outputs": [
    {
     "data": {
      "text/plain": [
       "[1]"
      ]
     },
     "execution_count": 4,
     "metadata": {},
     "output_type": "execute_result"
    }
   ],
   "source": [
    "my_list"
   ]
  },
  {
   "cell_type": "code",
   "execution_count": 5,
   "id": "d2b0057b",
   "metadata": {},
   "outputs": [],
   "source": [
    "my_list.append(1)"
   ]
  },
  {
   "cell_type": "code",
   "execution_count": 6,
   "id": "83d67de7",
   "metadata": {},
   "outputs": [
    {
     "data": {
      "text/plain": [
       "[1, 1]"
      ]
     },
     "execution_count": 6,
     "metadata": {},
     "output_type": "execute_result"
    }
   ],
   "source": [
    "my_list"
   ]
  },
  {
   "cell_type": "code",
   "execution_count": 7,
   "id": "557f909c",
   "metadata": {},
   "outputs": [],
   "source": [
    "my_list.append(5)"
   ]
  },
  {
   "cell_type": "code",
   "execution_count": 8,
   "id": "6e9131ea",
   "metadata": {},
   "outputs": [
    {
     "data": {
      "text/plain": [
       "[1, 1, 5]"
      ]
     },
     "execution_count": 8,
     "metadata": {},
     "output_type": "execute_result"
    }
   ],
   "source": [
    "my_list"
   ]
  },
  {
   "cell_type": "code",
   "execution_count": 9,
   "id": "c56d2582",
   "metadata": {},
   "outputs": [
    {
     "data": {
      "text/plain": [
       "5"
      ]
     },
     "execution_count": 9,
     "metadata": {},
     "output_type": "execute_result"
    }
   ],
   "source": [
    "my_list[2]"
   ]
  },
  {
   "cell_type": "code",
   "execution_count": 10,
   "id": "fb9b0258",
   "metadata": {},
   "outputs": [
    {
     "data": {
      "text/plain": [
       "[1, 1]"
      ]
     },
     "execution_count": 10,
     "metadata": {},
     "output_type": "execute_result"
    }
   ],
   "source": [
    "my_list[:2]"
   ]
  },
  {
   "cell_type": "code",
   "execution_count": 11,
   "id": "562511ac",
   "metadata": {},
   "outputs": [
    {
     "data": {
      "text/plain": [
       "[1, 5]"
      ]
     },
     "execution_count": 11,
     "metadata": {},
     "output_type": "execute_result"
    }
   ],
   "source": [
    "my_list[1:]"
   ]
  },
  {
   "cell_type": "code",
   "execution_count": 12,
   "id": "dec7919f",
   "metadata": {},
   "outputs": [],
   "source": [
    "my_list.append(634)"
   ]
  },
  {
   "cell_type": "code",
   "execution_count": 13,
   "id": "acd56789",
   "metadata": {},
   "outputs": [
    {
     "data": {
      "text/plain": [
       "[1, 1, 5, 634]"
      ]
     },
     "execution_count": 13,
     "metadata": {},
     "output_type": "execute_result"
    }
   ],
   "source": [
    "my_list"
   ]
  },
  {
   "cell_type": "code",
   "execution_count": 14,
   "id": "1e530314",
   "metadata": {},
   "outputs": [],
   "source": [
    "#indexing in PYTHON starts at position 0"
   ]
  },
  {
   "cell_type": "code",
   "execution_count": 15,
   "id": "f9231922",
   "metadata": {},
   "outputs": [
    {
     "data": {
      "text/plain": [
       "[634, 5, 1, 1]"
      ]
     },
     "execution_count": 15,
     "metadata": {},
     "output_type": "execute_result"
    }
   ],
   "source": [
    "#reverse order of a list\n",
    "my_list[::-1]"
   ]
  },
  {
   "cell_type": "code",
   "execution_count": 16,
   "id": "e98bc5a9",
   "metadata": {},
   "outputs": [],
   "source": [
    "my_copy_list = my_list"
   ]
  },
  {
   "cell_type": "code",
   "execution_count": 17,
   "id": "8ad4f75f",
   "metadata": {},
   "outputs": [
    {
     "data": {
      "text/plain": [
       "[1, 1, 5, 634]"
      ]
     },
     "execution_count": 17,
     "metadata": {},
     "output_type": "execute_result"
    }
   ],
   "source": [
    "my_copy_list"
   ]
  },
  {
   "cell_type": "code",
   "execution_count": 18,
   "id": "3acfafad",
   "metadata": {},
   "outputs": [],
   "source": [
    "my_list.append(77)"
   ]
  },
  {
   "cell_type": "code",
   "execution_count": 19,
   "id": "1921aa2d",
   "metadata": {},
   "outputs": [
    {
     "data": {
      "text/plain": [
       "[1, 1, 5, 634, 77]"
      ]
     },
     "execution_count": 19,
     "metadata": {},
     "output_type": "execute_result"
    }
   ],
   "source": [
    "my_list"
   ]
  },
  {
   "cell_type": "code",
   "execution_count": 20,
   "id": "ee42c973",
   "metadata": {},
   "outputs": [
    {
     "data": {
      "text/plain": [
       "[1, 1, 5, 634, 77]"
      ]
     },
     "execution_count": 20,
     "metadata": {},
     "output_type": "execute_result"
    }
   ],
   "source": [
    "my_copy_list"
   ]
  },
  {
   "cell_type": "code",
   "execution_count": 21,
   "id": "1df97e32",
   "metadata": {},
   "outputs": [],
   "source": [
    "#true copy of a list\n",
    "proper_copy = my_copy_list.copy()"
   ]
  },
  {
   "cell_type": "code",
   "execution_count": 22,
   "id": "1022a166",
   "metadata": {},
   "outputs": [
    {
     "data": {
      "text/plain": [
       "[1, 1, 5, 634, 77]"
      ]
     },
     "execution_count": 22,
     "metadata": {},
     "output_type": "execute_result"
    }
   ],
   "source": [
    "proper_copy"
   ]
  },
  {
   "cell_type": "code",
   "execution_count": 23,
   "id": "e8c1790f",
   "metadata": {},
   "outputs": [],
   "source": [
    "my_list.append(434)"
   ]
  },
  {
   "cell_type": "code",
   "execution_count": 24,
   "id": "8549faa6",
   "metadata": {},
   "outputs": [
    {
     "data": {
      "text/plain": [
       "[1, 1, 5, 634, 77, 434]"
      ]
     },
     "execution_count": 24,
     "metadata": {},
     "output_type": "execute_result"
    }
   ],
   "source": [
    "my_list"
   ]
  },
  {
   "cell_type": "code",
   "execution_count": 25,
   "id": "b2330cdc",
   "metadata": {},
   "outputs": [
    {
     "data": {
      "text/plain": [
       "[1, 1, 5, 634, 77]"
      ]
     },
     "execution_count": 25,
     "metadata": {},
     "output_type": "execute_result"
    }
   ],
   "source": [
    "proper_copy"
   ]
  },
  {
   "cell_type": "code",
   "execution_count": 26,
   "id": "9f6a1a27",
   "metadata": {},
   "outputs": [],
   "source": [
    "new_list = [32, \"columbia\", 3.14, False]"
   ]
  },
  {
   "cell_type": "code",
   "execution_count": 27,
   "id": "2374fb9e",
   "metadata": {},
   "outputs": [
    {
     "data": {
      "text/plain": [
       "[32, 'columbia', 3.14, False]"
      ]
     },
     "execution_count": 27,
     "metadata": {},
     "output_type": "execute_result"
    }
   ],
   "source": [
    "new_list"
   ]
  },
  {
   "cell_type": "code",
   "execution_count": 28,
   "id": "82222216",
   "metadata": {},
   "outputs": [
    {
     "data": {
      "text/plain": [
       "[1, 1, 5, 634, 77]"
      ]
     },
     "execution_count": 28,
     "metadata": {},
     "output_type": "execute_result"
    }
   ],
   "source": [
    "proper_copy"
   ]
  },
  {
   "cell_type": "code",
   "execution_count": 29,
   "id": "ef097d34",
   "metadata": {},
   "outputs": [
    {
     "data": {
      "text/plain": [
       "2"
      ]
     },
     "execution_count": 29,
     "metadata": {},
     "output_type": "execute_result"
    }
   ],
   "source": [
    "proper_copy.count(1)"
   ]
  },
  {
   "cell_type": "code",
   "execution_count": 30,
   "id": "adaf53bd",
   "metadata": {},
   "outputs": [],
   "source": [
    "#set\n",
    "#my_set = {}\n",
    "my_set = set()"
   ]
  },
  {
   "cell_type": "code",
   "execution_count": 31,
   "id": "4a76f7a1",
   "metadata": {},
   "outputs": [
    {
     "data": {
      "text/plain": [
       "set()"
      ]
     },
     "execution_count": 31,
     "metadata": {},
     "output_type": "execute_result"
    }
   ],
   "source": [
    "my_set"
   ]
  },
  {
   "cell_type": "code",
   "execution_count": 32,
   "id": "107c9abf",
   "metadata": {},
   "outputs": [],
   "source": [
    "my_set.add(\"new york\")\n",
    "my_set.add(\"new york\")\n",
    "my_set.add(\"new jersey\")\n",
    "my_set.add(\"alaska\")"
   ]
  },
  {
   "cell_type": "code",
   "execution_count": 33,
   "id": "cbcce6ce",
   "metadata": {},
   "outputs": [
    {
     "data": {
      "text/plain": [
       "{'alaska', 'new jersey', 'new york'}"
      ]
     },
     "execution_count": 33,
     "metadata": {},
     "output_type": "execute_result"
    }
   ],
   "source": [
    "my_set"
   ]
  },
  {
   "cell_type": "code",
   "execution_count": 34,
   "id": "aa16b275",
   "metadata": {},
   "outputs": [],
   "source": [
    "#sets honor distinct/dedup/unique"
   ]
  },
  {
   "cell_type": "code",
   "execution_count": 35,
   "id": "997cd2f7",
   "metadata": {},
   "outputs": [],
   "source": [
    "my_set.add(\"New York\")"
   ]
  },
  {
   "cell_type": "code",
   "execution_count": 36,
   "id": "472303c8",
   "metadata": {},
   "outputs": [
    {
     "data": {
      "text/plain": [
       "{'New York', 'alaska', 'new jersey', 'new york'}"
      ]
     },
     "execution_count": 36,
     "metadata": {},
     "output_type": "execute_result"
    }
   ],
   "source": [
    "my_set"
   ]
  },
  {
   "cell_type": "code",
   "execution_count": 37,
   "id": "11c89a58",
   "metadata": {},
   "outputs": [],
   "source": [
    "my_set_a = {\"new york\", \"20-25\", \"audi\", \"fly fish\"}\n",
    "my_set_b = {\"new jersey\", \"20-25\", \"bmw\", \"swim\"}"
   ]
  },
  {
   "cell_type": "code",
   "execution_count": 38,
   "id": "9a9d396e",
   "metadata": {},
   "outputs": [],
   "source": [
    "#union - what attributes do ALL the sets have together\n",
    "union_fun = my_set_a.union(my_set_b) #order does not matter"
   ]
  },
  {
   "cell_type": "code",
   "execution_count": 39,
   "id": "3d44f032",
   "metadata": {},
   "outputs": [
    {
     "data": {
      "text/plain": [
       "{'20-25', 'audi', 'bmw', 'fly fish', 'new jersey', 'new york', 'swim'}"
      ]
     },
     "execution_count": 39,
     "metadata": {},
     "output_type": "execute_result"
    }
   ],
   "source": [
    "union_fun"
   ]
  },
  {
   "cell_type": "code",
   "execution_count": 40,
   "id": "2c66d202",
   "metadata": {},
   "outputs": [
    {
     "ename": "SyntaxError",
     "evalue": "unmatched ')' (3317608033.py, line 2)",
     "output_type": "error",
     "traceback": [
      "\u001b[0;36m  File \u001b[0;32m\"/var/folders/h_/ktb589cd4qd4t7wbtqgxcgnw0000gn/T/ipykernel_11749/3317608033.py\"\u001b[0;36m, line \u001b[0;32m2\u001b[0m\n\u001b[0;31m    intersection_fun = my_set_b) #order does NOT mattert_a.intersection(my_se\u001b[0m\n\u001b[0m                               ^\u001b[0m\n\u001b[0;31mSyntaxError\u001b[0m\u001b[0;31m:\u001b[0m unmatched ')'\n"
     ]
    }
   ],
   "source": [
    "#intersection - what do two sets have in common\n",
    "intersection_fun = my_set_b) #order does NOT mattert_a.intersection(my_se"
   ]
  },
  {
   "cell_type": "code",
   "execution_count": null,
   "id": "ab7dd914",
   "metadata": {},
   "outputs": [],
   "source": [
    "intersection_fun"
   ]
  },
  {
   "cell_type": "code",
   "execution_count": null,
   "id": "acdb2b3a",
   "metadata": {},
   "outputs": [],
   "source": [
    "difference_fun = my_set_b.difference(my_set_a)\n",
    "#order DOES matter my_set_b.difference(my_set_a) != my_set_a.difference(my_set_b)"
   ]
  },
  {
   "cell_type": "code",
   "execution_count": null,
   "id": "6d60ff62",
   "metadata": {},
   "outputs": [],
   "source": [
    "difference_fun"
   ]
  },
  {
   "cell_type": "code",
   "execution_count": null,
   "id": "eae62368",
   "metadata": {},
   "outputs": [],
   "source": [
    "symmetric_fun = my_set_b.symmetric_difference(my_set_a) #order does NOT matter"
   ]
  },
  {
   "cell_type": "code",
   "execution_count": null,
   "id": "54019391",
   "metadata": {},
   "outputs": [],
   "source": [
    "symmetric_fun"
   ]
  },
  {
   "cell_type": "code",
   "execution_count": null,
   "id": "c4a66913",
   "metadata": {},
   "outputs": [],
   "source": [
    "#dictionary\n",
    "#key, value pair\n",
    "dictionary_fun = dict()"
   ]
  },
  {
   "cell_type": "code",
   "execution_count": null,
   "id": "9ba46f72",
   "metadata": {},
   "outputs": [],
   "source": [
    "dictionary_fun"
   ]
  },
  {
   "cell_type": "code",
   "execution_count": null,
   "id": "1fcfc1c7",
   "metadata": {},
   "outputs": [],
   "source": [
    "dictionary_fun[\"key_a\"] = \"columbia\"\n",
    "dictionary_fun[\"key_b\"] = \"princeton\""
   ]
  },
  {
   "cell_type": "code",
   "execution_count": null,
   "id": "9ab6aa69",
   "metadata": {},
   "outputs": [],
   "source": [
    "dictionary_fun"
   ]
  },
  {
   "cell_type": "code",
   "execution_count": null,
   "id": "a379d471",
   "metadata": {},
   "outputs": [],
   "source": [
    "dictionary_fun[\"key_a\"] = \"harvard\""
   ]
  },
  {
   "cell_type": "code",
   "execution_count": null,
   "id": "0c3e6e91",
   "metadata": {},
   "outputs": [],
   "source": [
    "dictionary_fun"
   ]
  },
  {
   "cell_type": "code",
   "execution_count": null,
   "id": "81f146cb",
   "metadata": {},
   "outputs": [],
   "source": [
    "dictionary_fun[\"key_c\"] = \"columbia\""
   ]
  },
  {
   "cell_type": "code",
   "execution_count": null,
   "id": "d0d3a8e0",
   "metadata": {},
   "outputs": [],
   "source": [
    "dictionary_fun"
   ]
  },
  {
   "cell_type": "code",
   "execution_count": null,
   "id": "21b6ac3e",
   "metadata": {},
   "outputs": [],
   "source": [
    "dictionary_inferred = {'key_a': 'harvard', 'key_b': 'princeton', 'key_c': 'columbia'}"
   ]
  },
  {
   "cell_type": "code",
   "execution_count": null,
   "id": "3bbe9ac7",
   "metadata": {},
   "outputs": [],
   "source": [
    "dictionary_inferred"
   ]
  },
  {
   "cell_type": "code",
   "execution_count": null,
   "id": "ea7f8948",
   "metadata": {},
   "outputs": [],
   "source": [
    "dictionary_fun_a = {\"key_a\": [1,5,6], \"key_b\": {\"a\": 1, \"b\": 2}}"
   ]
  },
  {
   "cell_type": "code",
   "execution_count": null,
   "id": "cd7cca53",
   "metadata": {},
   "outputs": [],
   "source": [
    "dictionary_fun_a"
   ]
  },
  {
   "cell_type": "code",
   "execution_count": null,
   "id": "b30d3795",
   "metadata": {},
   "outputs": [],
   "source": [
    "dictionary_fun_a[\"key_b\"]"
   ]
  },
  {
   "cell_type": "code",
   "execution_count": null,
   "id": "d5d61b08",
   "metadata": {},
   "outputs": [],
   "source": [
    "type(dictionary_fun_a[\"key_a\"])"
   ]
  },
  {
   "cell_type": "code",
   "execution_count": null,
   "id": "cbbd7205",
   "metadata": {},
   "outputs": [],
   "source": [
    "what_are_the_keys = list(dictionary_fun_a.keys())"
   ]
  },
  {
   "cell_type": "code",
   "execution_count": null,
   "id": "94d59f5c",
   "metadata": {},
   "outputs": [],
   "source": [
    "what_are_the_keys"
   ]
  },
  {
   "cell_type": "code",
   "execution_count": null,
   "id": "b35c5ec9",
   "metadata": {},
   "outputs": [],
   "source": [
    "what_are_the_values = list(dictionary_fun_a.values())"
   ]
  },
  {
   "cell_type": "code",
   "execution_count": null,
   "id": "cfb43e60",
   "metadata": {},
   "outputs": [],
   "source": [
    "what_are_the_values"
   ]
  },
  {
   "cell_type": "code",
   "execution_count": null,
   "id": "011eea12",
   "metadata": {},
   "outputs": [],
   "source": [
    "#looping statements\n",
    "list(range(1, 11))\n",
    "#for i in range(0, 10):"
   ]
  },
  {
   "cell_type": "code",
   "execution_count": null,
   "id": "11b65233",
   "metadata": {},
   "outputs": [],
   "source": [
    "for whateveryouwant in range(1, 11):\n",
    "    print (whateveryouwant)"
   ]
  },
  {
   "cell_type": "code",
   "execution_count": null,
   "id": "ba92fef0",
   "metadata": {},
   "outputs": [],
   "source": [
    "cnt = 0\n",
    "while cnt < 10:\n",
    "    #cnt = cnt + 1\n",
    "    cnt += 1\n",
    "    print (cnt)"
   ]
  },
  {
   "cell_type": "code",
   "execution_count": null,
   "id": "bf9813a8",
   "metadata": {},
   "outputs": [],
   "source": [
    "my_list_fun = [\"a\", \"b\", \"c\", \"d\", \"e\"]"
   ]
  },
  {
   "cell_type": "code",
   "execution_count": null,
   "id": "3f019863",
   "metadata": {},
   "outputs": [],
   "source": [
    "concat_fun = list()\n",
    "for djfkj in my_list_fun:\n",
    "    concat_fun.append(djfkj + \" fun\")\n",
    "    print (djfkj)"
   ]
  },
  {
   "cell_type": "code",
   "execution_count": null,
   "id": "bf8920a5",
   "metadata": {},
   "outputs": [],
   "source": [
    "concat_fun"
   ]
  },
  {
   "cell_type": "code",
   "execution_count": null,
   "id": "6abdc369",
   "metadata": {},
   "outputs": [],
   "source": [
    "sentence_fun = \"the,cat,ran,up,the,hill,after,dog,who,beat,up,my,friends,cat\""
   ]
  },
  {
   "cell_type": "code",
   "execution_count": null,
   "id": "4f0c818a",
   "metadata": {},
   "outputs": [],
   "source": [
    "sentence_fun"
   ]
  },
  {
   "cell_type": "code",
   "execution_count": null,
   "id": "f2cef80c",
   "metadata": {},
   "outputs": [],
   "source": [
    "#tokenization\n",
    "my_token_fun = sentence_fun.split(\",\") #defaults to a space"
   ]
  },
  {
   "cell_type": "code",
   "execution_count": null,
   "id": "bb8a88db",
   "metadata": {},
   "outputs": [],
   "source": [
    "my_token_fun"
   ]
  },
  {
   "cell_type": "code",
   "execution_count": null,
   "id": "4923b86f",
   "metadata": {},
   "outputs": [],
   "source": [
    "#what you all to create a dictionary where the keys are \"UNIQUE\" tokens\n",
    "#and the values are the COUNT of the number of times that token showed up in the list"
   ]
  },
  {
   "cell_type": "code",
   "execution_count": null,
   "id": "7a1c1085",
   "metadata": {},
   "outputs": [],
   "source": [
    "#my_token_fun\n",
    "word_freq = dict()\n",
    "my_set = set(my_token_fun)\n",
    "for word in my_set:\n",
    "    word_freq[word] = my_token_fun.count(word)"
   ]
  },
  {
   "cell_type": "code",
   "execution_count": null,
   "id": "3c7fb708",
   "metadata": {},
   "outputs": [],
   "source": [
    "word_freq"
   ]
  },
  {
   "cell_type": "code",
   "execution_count": null,
   "id": "97d5725a",
   "metadata": {},
   "outputs": [],
   "source": [
    "#create a function whose input is a corpus and the function needs to \n",
    "#output a word frequency dictionary\n",
    "def word_count_fun(str_in):\n",
    "    dict_fun = dict()\n",
    "    token_tmp = str_in.split()\n",
    "    for w in set(token_tmp):\n",
    "        dict_fun[w] = token_tmp.count(w)\n",
    "    return dict_fun"
   ]
  },
  {
   "cell_type": "code",
   "execution_count": null,
   "id": "e04d24cc",
   "metadata": {},
   "outputs": [],
   "source": [
    "test = word_count_fun(\"the the cat dog dog\")"
   ]
  },
  {
   "cell_type": "code",
   "execution_count": null,
   "id": "b480d50f",
   "metadata": {},
   "outputs": [],
   "source": [
    "test"
   ]
  },
  {
   "cell_type": "code",
   "execution_count": null,
   "id": "0b578974",
   "metadata": {},
   "outputs": [],
   "source": [
    "import collections"
   ]
  },
  {
   "cell_type": "code",
   "execution_count": null,
   "id": "37eb9797",
   "metadata": {},
   "outputs": [],
   "source": [
    "test_sent = \"the the cat dog dog\"\n",
    "test_fun = collections.Counter(test_sent.split())"
   ]
  },
  {
   "cell_type": "code",
   "execution_count": null,
   "id": "b6eebba8",
   "metadata": {},
   "outputs": [],
   "source": [
    "test_fun"
   ]
  },
  {
   "cell_type": "code",
   "execution_count": null,
   "id": "27fea330",
   "metadata": {},
   "outputs": [],
   "source": [
    "#list comprehension\n",
    "sentence_blah = \"a b c d d e e e g g i\""
   ]
  },
  {
   "cell_type": "code",
   "execution_count": null,
   "id": "c735ad5a",
   "metadata": {},
   "outputs": [],
   "source": [
    "#word_freq_lc = [word+\" fun\" for word in sentence_blah.split()]\n",
    "word_freq_lc = list()\n",
    "for word in sentence_blah.split():\n",
    "    word_freq_lc.append(word + \" fun\")"
   ]
  },
  {
   "cell_type": "code",
   "execution_count": null,
   "id": "d0399645",
   "metadata": {},
   "outputs": [],
   "source": [
    "word_freq_lc"
   ]
  },
  {
   "cell_type": "code",
   "execution_count": null,
   "id": "95b4ff9f",
   "metadata": {},
   "outputs": [],
   "source": [
    "sentence_blah = \"a b c d d e e e g g i\"\n",
    "dict_fun = {word:sentence_blah.count(word) for word in set(sentence_blah.split())}"
   ]
  },
  {
   "cell_type": "code",
   "execution_count": null,
   "id": "cdfd1e14",
   "metadata": {},
   "outputs": [],
   "source": [
    "dict_fun"
   ]
  },
  {
   "cell_type": "code",
   "execution_count": null,
   "id": "6c3ba2f3",
   "metadata": {},
   "outputs": [],
   "source": [
    "import pandas as pd"
   ]
  },
  {
   "cell_type": "code",
   "execution_count": null,
   "id": "9f01a07c",
   "metadata": {},
   "outputs": [],
   "source": [
    "my_pd = pd.DataFrame()"
   ]
  },
  {
   "cell_type": "code",
   "execution_count": null,
   "id": "3befbf4d",
   "metadata": {},
   "outputs": [],
   "source": [
    "type(my_pd)"
   ]
  },
  {
   "cell_type": "code",
   "execution_count": null,
   "id": "99ec70db",
   "metadata": {},
   "outputs": [],
   "source": [
    "my_pd = pd.DataFrame() \n",
    "for word in dict_fun.keys():\n",
    "    my_pd = my_pd.append({\"token\": word, \"freq\": dict_fun[word]}, ignore_index=True)"
   ]
  },
  {
   "cell_type": "code",
   "execution_count": null,
   "id": "dd6b4222",
   "metadata": {},
   "outputs": [],
   "source": [
    "my_pd"
   ]
  },
  {
   "cell_type": "code",
   "execution_count": null,
   "id": "3ce13687",
   "metadata": {},
   "outputs": [],
   "source": [
    "my_pd.head(1)"
   ]
  },
  {
   "cell_type": "code",
   "execution_count": null,
   "id": "81b32982",
   "metadata": {},
   "outputs": [],
   "source": [
    "my_pd.tail(1)"
   ]
  },
  {
   "cell_type": "code",
   "execution_count": null,
   "id": "36fc4cfa",
   "metadata": {},
   "outputs": [],
   "source": [
    "stats = my_pd.describe()"
   ]
  },
  {
   "cell_type": "code",
   "execution_count": null,
   "id": "57abf421",
   "metadata": {},
   "outputs": [],
   "source": [
    "stats"
   ]
  },
  {
   "cell_type": "code",
   "execution_count": null,
   "id": "6bc51cc6",
   "metadata": {},
   "outputs": [],
   "source": [
    "my_pd"
   ]
  },
  {
   "cell_type": "code",
   "execution_count": null,
   "id": "f75f6123",
   "metadata": {},
   "outputs": [],
   "source": [
    "my_pd[\"freq\"]"
   ]
  },
  {
   "cell_type": "code",
   "execution_count": null,
   "id": "d2e5d936",
   "metadata": {},
   "outputs": [],
   "source": [
    "my_pd.freq"
   ]
  },
  {
   "cell_type": "code",
   "execution_count": null,
   "id": "64266dcd",
   "metadata": {},
   "outputs": [],
   "source": [
    "what_are_the_columns = my_pd.columns"
   ]
  },
  {
   "cell_type": "code",
   "execution_count": null,
   "id": "4b9145bc",
   "metadata": {},
   "outputs": [],
   "source": [
    "what_are_the_columns"
   ]
  },
  {
   "cell_type": "code",
   "execution_count": null,
   "id": "85557c35",
   "metadata": {},
   "outputs": [],
   "source": [
    "my_pd.columns = [\"freq_fun\", \"token\"] #change names"
   ]
  },
  {
   "cell_type": "code",
   "execution_count": null,
   "id": "8c71fcfa",
   "metadata": {},
   "outputs": [],
   "source": [
    "my_pd"
   ]
  },
  {
   "cell_type": "code",
   "execution_count": null,
   "id": "6149bf8c",
   "metadata": {},
   "outputs": [],
   "source": [
    "my_pd_ex = my_pd[my_pd.freq >= 2.0]"
   ]
  },
  {
   "cell_type": "code",
   "execution_count": null,
   "id": "b1bba629",
   "metadata": {},
   "outputs": [],
   "source": [
    "my_pd_ex"
   ]
  },
  {
   "cell_type": "code",
   "execution_count": null,
   "id": "b2979c3f",
   "metadata": {},
   "outputs": [],
   "source": [
    "my_pd_ex = my_pd[my_pd.token == \"a\"]\n",
    "my_pd_ex"
   ]
  }
 ],
 "metadata": {
  "kernelspec": {
   "display_name": "Python 3 (ipykernel)",
   "language": "python",
   "name": "python3"
  },
  "language_info": {
   "codemirror_mode": {
    "name": "ipython",
    "version": 3
   },
   "file_extension": ".py",
   "mimetype": "text/x-python",
   "name": "python",
   "nbconvert_exporter": "python",
   "pygments_lexer": "ipython3",
   "version": "3.9.7"
  }
 },
 "nbformat": 4,
 "nbformat_minor": 5
}
